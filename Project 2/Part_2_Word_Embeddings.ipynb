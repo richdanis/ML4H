{
  "nbformat": 4,
  "nbformat_minor": 0,
  "metadata": {
    "colab": {
      "provenance": [],
      "gpuType": "T4"
    },
    "kernelspec": {
      "name": "python3",
      "display_name": "Python 3"
    },
    "language_info": {
      "name": "python"
    },
    "gpuClass": "standard"
  },
  "cells": [
    {
      "cell_type": "code",
      "execution_count": null,
      "metadata": {
        "colab": {
          "base_uri": "https://localhost:8080/"
        },
        "id": "yZ6Od--5paQs",
        "outputId": "d1aa4a3c-7f34-401e-cabd-33c9657edece"
      },
      "outputs": [
        {
          "output_type": "stream",
          "name": "stdout",
          "text": [
            "Drive already mounted at /content/drive; to attempt to forcibly remount, call drive.mount(\"/content/drive\", force_remount=True).\n"
          ]
        }
      ],
      "source": [
        "from google.colab import drive\n",
        "# mount drive to access data\n",
        "drive.mount('/content/drive')\n",
        "# load data folder into working directory\n",
        "!cp -r drive/MyDrive/data ."
      ]
    },
    {
      "cell_type": "code",
      "source": [
        "# only execute when in colab!\n",
        "# download pretrained word vectors and unzip\n",
        "!mkdir embeddings\n",
        "!wget -P embeddings https://dl.fbaipublicfiles.com/fasttext/vectors-english/wiki-news-300d-1M-subword.vec.zip\n",
        "!wget -P embeddings https://huggingface.co/stanfordnlp/glove/resolve/main/glove.twitter.27B.zip"
      ],
      "metadata": {
        "colab": {
          "base_uri": "https://localhost:8080/"
        },
        "id": "6zBa23mCXULz",
        "outputId": "cfac9132-b33c-49f3-8ab0-a205d66f0e37"
      },
      "execution_count": null,
      "outputs": [
        {
          "output_type": "stream",
          "name": "stdout",
          "text": [
            "mkdir: cannot create directory ‘embeddings’: File exists\n",
            "--2023-05-06 18:09:46--  https://dl.fbaipublicfiles.com/fasttext/vectors-english/wiki-news-300d-1M-subword.vec.zip\n",
            "Resolving dl.fbaipublicfiles.com (dl.fbaipublicfiles.com)... 108.157.162.83, 108.157.162.108, 108.157.162.35, ...\n",
            "Connecting to dl.fbaipublicfiles.com (dl.fbaipublicfiles.com)|108.157.162.83|:443... connected.\n",
            "HTTP request sent, awaiting response... 200 OK\n",
            "Length: 587879973 (561M) [application/zip]\n",
            "Saving to: ‘embeddings/wiki-news-300d-1M-subword.vec.zip’\n",
            "\n",
            "wiki-news-300d-1M-s 100%[===================>] 560.65M   138MB/s    in 4.2s    \n",
            "\n",
            "2023-05-06 18:09:50 (135 MB/s) - ‘embeddings/wiki-news-300d-1M-subword.vec.zip’ saved [587879973/587879973]\n",
            "\n",
            "--2023-05-06 18:09:51--  https://huggingface.co/stanfordnlp/glove/resolve/main/glove.twitter.27B.zip\n",
            "Resolving huggingface.co (huggingface.co)... 18.67.0.67, 18.67.0.34, 18.67.0.55, ...\n",
            "Connecting to huggingface.co (huggingface.co)|18.67.0.67|:443... connected.\n",
            "HTTP request sent, awaiting response... 302 Found\n",
            "Location: https://cdn-lfs.huggingface.co/stanfordnlp/glove/3123e7f5c3f6a30095d413b12fc3284bbf717acd2a9bed63d1c7c13bf5223352?response-content-disposition=attachment%3B+filename*%3DUTF-8%27%27glove.twitter.27B.zip%3B+filename%3D%22glove.twitter.27B.zip%22%3B&response-content-type=application%2Fzip&Expires=1683655791&Policy=eyJTdGF0ZW1lbnQiOlt7IlJlc291cmNlIjoiaHR0cHM6Ly9jZG4tbGZzLmh1Z2dpbmdmYWNlLmNvL3N0YW5mb3JkbmxwL2dsb3ZlLzMxMjNlN2Y1YzNmNmEzMDA5NWQ0MTNiMTJmYzMyODRiYmY3MTdhY2QyYTliZWQ2M2QxYzdjMTNiZjUyMjMzNTI%7EcmVzcG9uc2UtY29udGVudC1kaXNwb3NpdGlvbj0qJnJlc3BvbnNlLWNvbnRlbnQtdHlwZT0qIiwiQ29uZGl0aW9uIjp7IkRhdGVMZXNzVGhhbiI6eyJBV1M6RXBvY2hUaW1lIjoxNjgzNjU1NzkxfX19XX0_&Signature=E4GoartaxzYt1iOiBeQyZS%7E-sfZ--hFujhMnfNXFIxEm5B6hlsNLR8MN2Kl5oO8u0TlZPnzgc0URcvWlY%7EXlbT8Y8ue-npwK9qwd9bOU3Sm28sWemRk7U9E%7EYg6xvUx4PoAGUwW1GuSPOgKaMrr-NTXvBj4xtnSuIvcs5Dqv4TN-CzfohandijCJRLJ-rLmVxisrk8NurXb8UXvxvNlRwJmB-ietBZYKPYTfxM6MY7dpZK3ObJbr3N3JgXLk4vcOnsm-0eBJyN8hYlkh9wlkX-uGlbfDOSdVnXC2f54aCVCfXrrnc76ZGjKuOO2fVuQB8%7EdELHXMeosQhe6lmDh2HQ__&Key-Pair-Id=KVTP0A1DKRTAX [following]\n",
            "--2023-05-06 18:09:51--  https://cdn-lfs.huggingface.co/stanfordnlp/glove/3123e7f5c3f6a30095d413b12fc3284bbf717acd2a9bed63d1c7c13bf5223352?response-content-disposition=attachment%3B+filename*%3DUTF-8%27%27glove.twitter.27B.zip%3B+filename%3D%22glove.twitter.27B.zip%22%3B&response-content-type=application%2Fzip&Expires=1683655791&Policy=eyJTdGF0ZW1lbnQiOlt7IlJlc291cmNlIjoiaHR0cHM6Ly9jZG4tbGZzLmh1Z2dpbmdmYWNlLmNvL3N0YW5mb3JkbmxwL2dsb3ZlLzMxMjNlN2Y1YzNmNmEzMDA5NWQ0MTNiMTJmYzMyODRiYmY3MTdhY2QyYTliZWQ2M2QxYzdjMTNiZjUyMjMzNTI%7EcmVzcG9uc2UtY29udGVudC1kaXNwb3NpdGlvbj0qJnJlc3BvbnNlLWNvbnRlbnQtdHlwZT0qIiwiQ29uZGl0aW9uIjp7IkRhdGVMZXNzVGhhbiI6eyJBV1M6RXBvY2hUaW1lIjoxNjgzNjU1NzkxfX19XX0_&Signature=E4GoartaxzYt1iOiBeQyZS%7E-sfZ--hFujhMnfNXFIxEm5B6hlsNLR8MN2Kl5oO8u0TlZPnzgc0URcvWlY%7EXlbT8Y8ue-npwK9qwd9bOU3Sm28sWemRk7U9E%7EYg6xvUx4PoAGUwW1GuSPOgKaMrr-NTXvBj4xtnSuIvcs5Dqv4TN-CzfohandijCJRLJ-rLmVxisrk8NurXb8UXvxvNlRwJmB-ietBZYKPYTfxM6MY7dpZK3ObJbr3N3JgXLk4vcOnsm-0eBJyN8hYlkh9wlkX-uGlbfDOSdVnXC2f54aCVCfXrrnc76ZGjKuOO2fVuQB8%7EdELHXMeosQhe6lmDh2HQ__&Key-Pair-Id=KVTP0A1DKRTAX\n",
            "Resolving cdn-lfs.huggingface.co (cdn-lfs.huggingface.co)... 18.64.174.110, 18.64.174.109, 18.64.174.106, ...\n",
            "Connecting to cdn-lfs.huggingface.co (cdn-lfs.huggingface.co)|18.64.174.110|:443... connected.\n",
            "HTTP request sent, awaiting response... 200 OK\n",
            "Length: 1520408741 (1.4G) [application/zip]\n",
            "Saving to: ‘embeddings/glove.twitter.27B.zip.1’\n",
            "\n",
            "glove.twitter.27B.z 100%[===================>]   1.42G  54.4MB/s    in 22s     \n",
            "\n",
            "2023-05-06 18:10:13 (65.0 MB/s) - ‘embeddings/glove.twitter.27B.zip.1’ saved [1520408741/1520408741]\n",
            "\n"
          ]
        }
      ]
    },
    {
      "cell_type": "code",
      "source": [
        "!unzip -d embeddings embeddings/wiki-news-300d-1M-subword.vec.zip"
      ],
      "metadata": {
        "id": "CL6DfCIfyz8T",
        "colab": {
          "base_uri": "https://localhost:8080/"
        },
        "outputId": "2bbcc5be-71f3-426e-b181-43be79f0facd"
      },
      "execution_count": null,
      "outputs": [
        {
          "output_type": "stream",
          "name": "stdout",
          "text": [
            "Archive:  embeddings/wiki-news-300d-1M-subword.vec.zip\n",
            "  inflating: embeddings/wiki-news-300d-1M-subword.vec  \n"
          ]
        }
      ]
    },
    {
      "cell_type": "code",
      "source": [
        "!unzip -d embeddings embeddings/glove.twitter.27B.zip"
      ],
      "metadata": {
        "id": "eW4Y-JhDwHje",
        "colab": {
          "base_uri": "https://localhost:8080/"
        },
        "outputId": "40e7162c-8d63-4ebc-a68b-34c35f8748fd"
      },
      "execution_count": null,
      "outputs": [
        {
          "output_type": "stream",
          "name": "stdout",
          "text": [
            "Archive:  embeddings/glove.twitter.27B.zip\n",
            "replace embeddings/glove.twitter.27B.100d.txt? [y]es, [n]o, [A]ll, [N]one, [r]ename: "
          ]
        }
      ]
    },
    {
      "cell_type": "code",
      "source": [
        "import nltk\n",
        "from nltk.tokenize import TweetTokenizer\n",
        "from nltk.stem import WordNetLemmatizer\n",
        "import pandas as pd\n",
        "import matplotlib.pyplot as plt\n",
        "import string\n",
        "import re\n",
        "from nltk.util import bigrams\n",
        "from itertools import compress\n",
        "import numpy as np\n",
        "import math\n",
        "from sklearn.feature_extraction.text import CountVectorizer\n",
        "from sklearn.feature_extraction.text import TfidfVectorizer\n",
        "from tqdm import tqdm\n",
        "import io"
      ],
      "metadata": {
        "id": "ycnk1MQPptS1"
      },
      "execution_count": null,
      "outputs": []
    },
    {
      "cell_type": "code",
      "source": [
        "# loading data with preprocessed tweets\n",
        "data = pd.read_csv('data/train.csv')"
      ],
      "metadata": {
        "id": "J7VKmxgdp0pf"
      },
      "execution_count": null,
      "outputs": []
    },
    {
      "cell_type": "code",
      "source": [
        "tweets = []\n",
        "for ind, row in tqdm(data.iterrows(), total=data.shape[0]):\n",
        "  try:\n",
        "    tweets.append(row['TweetText'].split())\n",
        "  except:\n",
        "    print(row['TweetText'])"
      ],
      "metadata": {
        "id": "vXKeHC_dGyce",
        "colab": {
          "base_uri": "https://localhost:8080/"
        },
        "outputId": "a3c10872-e698-44e5-9a2c-488c89d954b7"
      },
      "execution_count": null,
      "outputs": [
        {
          "output_type": "stream",
          "name": "stderr",
          "text": [
            "100%|██████████| 449366/449366 [00:41<00:00, 10954.17it/s]\n"
          ]
        }
      ]
    },
    {
      "cell_type": "markdown",
      "source": [
        "### Bag of Words"
      ],
      "metadata": {
        "id": "RmixlmpbKJIK"
      }
    },
    {
      "cell_type": "code",
      "source": [
        "vectorizer = CountVectorizer(max_features=1000)\n",
        "X = vectorizer.fit_transform(data['TweetText']).toarray()"
      ],
      "metadata": {
        "id": "2hEeIEOHF-A4"
      },
      "execution_count": null,
      "outputs": []
    },
    {
      "cell_type": "code",
      "source": [
        "vectorizer.vocabulary_"
      ],
      "metadata": {
        "id": "ufLdp_sqHbSH"
      },
      "execution_count": null,
      "outputs": []
    },
    {
      "cell_type": "markdown",
      "source": [
        "### TF-IDF"
      ],
      "metadata": {
        "id": "PkihRXw5KMeG"
      }
    },
    {
      "cell_type": "code",
      "source": [
        "vectorizer = TfidfVectorizer(max_features=1000)\n",
        "X = vectorizer.fit_transform(data['TweetText'])"
      ],
      "metadata": {
        "id": "cadSMGYIII2M"
      },
      "execution_count": null,
      "outputs": []
    },
    {
      "cell_type": "code",
      "source": [
        "X.toarray()"
      ],
      "metadata": {
        "colab": {
          "base_uri": "https://localhost:8080/"
        },
        "id": "1mj2VBY3SZ2v",
        "outputId": "60225e46-4b14-4c78-a76f-864b051b391b"
      },
      "execution_count": null,
      "outputs": [
        {
          "output_type": "execute_result",
          "data": {
            "text/plain": [
              "array([[0., 0., 0., ..., 0., 0., 0.],\n",
              "       [0., 0., 0., ..., 0., 0., 0.],\n",
              "       [0., 0., 0., ..., 0., 0., 0.],\n",
              "       ...,\n",
              "       [0., 0., 0., ..., 0., 0., 0.],\n",
              "       [0., 0., 0., ..., 0., 0., 0.],\n",
              "       [0., 0., 0., ..., 0., 0., 0.]])"
            ]
          },
          "metadata": {},
          "execution_count": 11
        }
      ]
    },
    {
      "cell_type": "markdown",
      "source": [
        "### Word2Vec"
      ],
      "metadata": {
        "id": "1pOaTHjmvz1S"
      }
    },
    {
      "cell_type": "code",
      "source": [],
      "metadata": {
        "id": "5oj4bXLqvyo_"
      },
      "execution_count": null,
      "outputs": []
    },
    {
      "cell_type": "markdown",
      "source": [
        "### FastText"
      ],
      "metadata": {
        "id": "LYfjmGK2e7OW"
      }
    },
    {
      "cell_type": "code",
      "source": [
        "def load_vectors(fname):\n",
        "    fin = io.open(fname, 'r', encoding='utf-8', newline='\\n', errors='ignore')\n",
        "    n, d = map(int, fin.readline().split())\n",
        "    data = {}\n",
        "    for line in fin:\n",
        "        tokens = line.rstrip().split(' ')\n",
        "        data[tokens[0]] = np.asarray(tokens[1:], dtype=np.float32)\n",
        "    return data"
      ],
      "metadata": {
        "id": "pgxJFMH7e9_b"
      },
      "execution_count": null,
      "outputs": []
    },
    {
      "cell_type": "code",
      "source": [
        "ft_embeddings = load_vectors(\"embeddings/wiki-news-300d-1M-subword.vec\")"
      ],
      "metadata": {
        "colab": {
          "base_uri": "https://localhost:8080/"
        },
        "id": "x5VgrQcbQzHD",
        "outputId": "5bbe1220-9e97-4278-8343-e40b40b44716"
      },
      "execution_count": null,
      "outputs": [
        {
          "output_type": "stream",
          "name": "stdout",
          "text": [
            "[ 0.0203 -0.0123 -0.0076  0.0187  0.0173 -0.0052  0.0147  0.1364 -0.0435\n",
            "  0.0033]\n",
            "[ 0.0203 -0.0123 -0.0076  0.0187  0.0173 -0.0052  0.0147  0.1364 -0.0435\n",
            "  0.0033]\n"
          ]
        }
      ]
    },
    {
      "cell_type": "markdown",
      "source": [
        "### GloVe"
      ],
      "metadata": {
        "id": "GZyWzu5JsjV-"
      }
    },
    {
      "cell_type": "code",
      "source": [
        "glove_embeddings = {}\n",
        "with open(\"embeddings/glove.twitter.27B.200d.txt\", 'r') as f:\n",
        "    for line in f:\n",
        "        values = line.split()\n",
        "        word = values[0]\n",
        "        vector = np.asarray(values[1:], \"float32\")\n",
        "        glove_embeddings[word] = vector"
      ],
      "metadata": {
        "id": "NWs-XZ3eS4x_"
      },
      "execution_count": null,
      "outputs": []
    },
    {
      "cell_type": "code",
      "source": [
        "glove_embeddings"
      ],
      "metadata": {
        "id": "uKwbvWCkeLkC"
      },
      "execution_count": null,
      "outputs": []
    },
    {
      "cell_type": "code",
      "source": [],
      "metadata": {
        "id": "3CnIQKSWeqCt"
      },
      "execution_count": null,
      "outputs": []
    }
  ]
}