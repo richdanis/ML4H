{
 "cells": [
  {
   "cell_type": "code",
   "execution_count": 2,
   "metadata": {},
   "outputs": [],
   "source": [
    "import nltk\n",
    "from nltk.tokenize import TweetTokenizer\n",
    "from nltk.stem import WordNetLemmatizer\n",
    "import pandas as pd\n",
    "import matplotlib.pyplot as plt\n",
    "import string\n",
    "import re\n",
    "from nltk.util import bigrams\n",
    "from itertools import compress\n",
    "import numpy as np\n",
    "import math\n",
    "from sklearn.feature_extraction.text import CountVectorizer\n",
    "from sklearn.feature_extraction.text import TfidfVectorizer"
   ]
  },
  {
   "attachments": {},
   "cell_type": "markdown",
   "metadata": {},
   "source": [
    "### Word2Vec with CBOW or Skip-gram (2 pts): \n",
    "Implement a Word2Vec pre-trained embedding approach to create embeddings of the TweetsCOV19 dataset. Motivate your choice between CBOW or Skip-gram. Explain the methodology and provide a code snippet of the function used to produce these embeddings."
   ]
  },
  {
   "attachments": {},
   "cell_type": "markdown",
   "metadata": {},
   "source": [
    "#### Helpfull\n",
    "\n",
    "https://towardsdatascience.com/nlp-101-word2vec-skip-gram-and-cbow-93512ee24314#:~:text=Continuous%20Bag%20of%20Words%20Model%20(CBOW)%20and%20Skip%2Dgram&text=In%20the%20CBOW%20model%2C%20the,used%20to%20predict%20the%20context%20\n",
    "\n",
    "https://medium.com/@martinpella/how-to-use-pre-trained-word-embeddings-in-pytorch-71ca59249f76\n"
   ]
  },
  {
   "attachments": {},
   "cell_type": "markdown",
   "metadata": {},
   "source": [
    "import nltk\n",
    "from nltk.tokenize import TweetTokenizer\n",
    "from nltk.stem import WordNetLemmatizer\n",
    "import pandas as pd\n",
    "import matplotlib.pyplot as plt\n",
    "import string\n",
    "import re\n",
    "from nltk.util import bigrams\n",
    "from itertools import compress\n",
    "import numpy as np\n",
    "import math\n",
    "from sklearn.feature_extraction.text import CountVectorizer\n",
    "from sklearn.feature_extraction.text import TfidfVectorizer"
   ]
  },
  {
   "cell_type": "code",
   "execution_count": 3,
   "metadata": {},
   "outputs": [
    {
     "name": "stderr",
     "output_type": "stream",
     "text": [
      "/var/folders/n6/w16z2dmj2g9d1pd2dt_r8xl80000gn/T/ipykernel_58172/3145232326.py:2: DtypeWarning: Columns (0,1) have mixed types. Specify dtype option on import or set low_memory=False.\n",
      "  raw_data = pd.read_csv('data/TweetsCOV19.csv')\n"
     ]
    }
   ],
   "source": [
    "# loading raw data\n",
    "raw_data = pd.read_csv('data/TweetsCOV19.csv')\n",
    "# loading data with preprocessed tweets\n",
    "data = pd.read_csv('data/cleaned_tweets.csv')"
   ]
  },
  {
   "cell_type": "code",
   "execution_count": 4,
   "metadata": {},
   "outputs": [],
   "source": [
    "# get word frequencies\n",
    "def words_freq(data):\n",
    "\n",
    "    tweets = data['TweetText'].tolist()\n",
    "    words = []\n",
    "    for sentence in tweets:\n",
    "        words.append(sentence.split())\n",
    "\n",
    "    words = [item for sublist in words for item in sublist]\n",
    "\n",
    "    freqs = dict()\n",
    "    for s in words:\n",
    "        if s in freqs:\n",
    "            freqs[s] += 1\n",
    "        else:\n",
    "            freqs[s] = 1\n",
    "\n",
    "    return freqs\n",
    "\n",
    "words_freqs = words_freq(data)"
   ]
  },
  {
   "cell_type": "code",
   "execution_count": 5,
   "metadata": {},
   "outputs": [
    {
     "data": {
      "text/plain": [
       "596500"
      ]
     },
     "execution_count": 5,
     "metadata": {},
     "output_type": "execute_result"
    }
   ],
   "source": [
    "diff_words = list(words_freqs.keys())\n",
    "len(diff_words)"
   ]
  },
  {
   "cell_type": "code",
   "execution_count": 10,
   "metadata": {},
   "outputs": [
    {
     "data": {
      "image/png": "[encoded data removed]",
      "text/plain": [
       "<Figure size 640x480 with 2 Axes>"
      ]
     },
     "metadata": {},
     "output_type": "display_data"
    }
   ],
   "source": [
    "x = pd.Series(list(words_freqs.values()))\n",
    "\n",
    "# histogram on linear scale\n",
    "plt.subplot(211)\n",
    "hist, bins, _ = plt.hist(freqs, bins=8)\n",
    "\n",
    "# histogram on log scale. \n",
    "# Use non-equal bin sizes, such that they look equal on log scale.\n",
    "logbins = np.logspace(np.log10(bins[0]),np.log10(bins[-1]),len(bins))\n",
    "plt.subplot(212)\n",
    "plt.hist(freqs, bins=logbins)\n",
    "plt.xscale('log')\n",
    "plt.show()"
   ]
  },
  {
   "cell_type": "code",
   "execution_count": 34,
   "metadata": {},
   "outputs": [
    {
     "data": {
      "text/plain": [
       "171549"
      ]
     },
     "execution_count": 34,
     "metadata": {},
     "output_type": "execute_result"
    }
   ],
   "source": [
    "def words_more_n(words_freqs, n = 5):\n",
    "    words_n = []\n",
    "    for key, val in words_freqs.items():\n",
    "        if val > n:\n",
    "            words_n.append(key)\n",
    "\n",
    "    return words_n\n",
    "\n",
    "words_n = words_more_n(words_freqs, 1)\n",
    "len(words_n)"
   ]
  },
  {
   "cell_type": "code",
   "execution_count": 20,
   "metadata": {},
   "outputs": [],
   "source": [
    "import gensim.downloader\n",
    "CBOW_vectors = gensim.downloader.load('word2vec-google-news-300')"
   ]
  },
  {
   "cell_type": "code",
   "execution_count": null,
   "metadata": {},
   "outputs": [],
   "source": [
    "CBOW_vectors[]"
   ]
  },
  {
   "cell_type": "code",
   "execution_count": 33,
   "metadata": {},
   "outputs": [
    {
     "data": {
      "text/plain": [
       "596500"
      ]
     },
     "execution_count": 33,
     "metadata": {},
     "output_type": "execute_result"
    }
   ],
   "source": [
    "len(words_freqs)"
   ]
  },
  {
   "cell_type": "code",
   "execution_count": 44,
   "metadata": {},
   "outputs": [
    {
     "name": "stdout",
     "output_type": "stream",
     "text": [
      "Words overall: 108196\n",
      "Words in:  41758\n",
      "Words out: 66438\n"
     ]
    }
   ],
   "source": [
    "word2vec = dict()\n",
    "not_in_dict = []\n",
    "count_in = 0\n",
    "count_out = 0\n",
    "count = 0\n",
    "for key, val in words_freqs.items():\n",
    "    if val > 2:\n",
    "        count += 1\n",
    "        try:\n",
    "            emb = CBOW_vectors[key]\n",
    "            count_in += 1\n",
    "            word2vec[key] = emb\n",
    "        except:\n",
    "            not_in_dict.append(key)\n",
    "            count_out += 1\n",
    "\n",
    "print(f'Words overall: {count}')\n",
    "print(f'Words in:  {count_in}')\n",
    "print(f'Words out: {count_out}')"
   ]
  },
  {
   "cell_type": "code",
   "execution_count": 39,
   "metadata": {},
   "outputs": [
    {
     "data": {
      "text/plain": [
       "171549"
      ]
     },
     "execution_count": 39,
     "metadata": {},
     "output_type": "execute_result"
    }
   ],
   "source": [
    "len(word2vec)-len(not_in_dict)"
   ]
  },
  {
   "cell_type": "code",
   "execution_count": 18,
   "metadata": {},
   "outputs": [
    {
     "data": {
      "text/plain": [
       "527941"
      ]
     },
     "execution_count": 18,
     "metadata": {},
     "output_type": "execute_result"
    }
   ],
   "source": [
    "# Show all available models in gensim-data\n",
    "print(list(gensim.downloader.info()['models'].keys()))\n",
    "['fasttext-wiki-news-subwords-300',\n",
    " 'conceptnet-numberbatch-17-06-300',\n",
    " 'word2vec-ruscorpora-300',\n",
    " 'word2vec-google-news-300',\n",
    " 'glove-wiki-gigaword-50',\n",
    " 'glove-wiki-gigaword-100',\n",
    " 'glove-wiki-gigaword-200',\n",
    " 'glove-wiki-gigaword-300',\n",
    " 'glove-twitter-25',\n",
    " 'glove-twitter-50',\n",
    " 'glove-twitter-100',\n",
    " 'glove-twitter-200',\n",
    " '__testing_word2vec-matrix-synopsis']"
   ]
  },
  {
   "cell_type": "code",
   "execution_count": null,
   "metadata": {},
   "outputs": [],
   "source": []
  },
  {
   "cell_type": "code",
   "execution_count": null,
   "metadata": {},
   "outputs": [],
   "source": []
  },
  {
   "cell_type": "code",
   "execution_count": null,
   "metadata": {},
   "outputs": [],
   "source": []
  }
 ],
 "metadata": {
  "kernelspec": {
   "display_name": "ML4H",
   "language": "python",
   "name": "python3"
  },
  "language_info": {
   "codemirror_mode": {
    "name": "ipython",
    "version": 3
   },
   "file_extension": ".py",
   "mimetype": "text/x-python",
   "name": "python",
   "nbconvert_exporter": "python",
   "pygments_lexer": "ipython3",
   "version": "3.9.5"
  },
  "orig_nbformat": 4
 },
 "nbformat": 4,
 "nbformat_minor": 2
}
