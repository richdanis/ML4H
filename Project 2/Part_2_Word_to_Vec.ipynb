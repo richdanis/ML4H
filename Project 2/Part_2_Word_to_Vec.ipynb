{
 "cells": [
  {
   "cell_type": "code",
   "execution_count": 45,
   "metadata": {},
   "outputs": [],
   "source": [
    "import pandas as pd\n",
    "import matplotlib.pyplot as plt\n",
    "import numpy as np\n",
    "from gensim import downloader as gensim_down"
   ]
  },
  {
   "cell_type": "code",
   "execution_count": 50,
   "metadata": {},
   "outputs": [],
   "source": [
    "import warnings\n",
    "warnings.filterwarnings(\"ignore\")\n",
    "np.random.seed(42)"
   ]
  },
  {
   "attachments": {},
   "cell_type": "markdown",
   "metadata": {},
   "source": [
    "### Word2Vec with CBOW or Skip-gram (2 pts): \n",
    "Implement a Word2Vec pre-trained embedding approach to create embeddings of the TweetsCOV19 dataset. Motivate your choice between CBOW or Skip-gram. Explain the methodology and provide a code snippet of the function used to produce these embeddings."
   ]
  },
  {
   "attachments": {},
   "cell_type": "markdown",
   "metadata": {},
   "source": [
    "#### Helpfull\n",
    "\n",
    "https://towardsdatascience.com/nlp-101-word2vec-skip-gram-and-cbow-93512ee24314#:~:text=Continuous%20Bag%20of%20Words%20Model%20(CBOW)%20and%20Skip%2Dgram&text=In%20the%20CBOW%20model%2C%20the,used%20to%20predict%20the%20context%20\n",
    "\n",
    "https://medium.com/@martinpella/how-to-use-pre-trained-word-embeddings-in-pytorch-71ca59249f76\n"
   ]
  },
  {
   "cell_type": "code",
   "execution_count": 51,
   "metadata": {},
   "outputs": [],
   "source": [
    "# loading data with preprocessed tweets\n",
    "data = pd.read_csv('data/cleaned_tweets.csv')"
   ]
  },
  {
   "attachments": {},
   "cell_type": "markdown",
   "metadata": {},
   "source": [
    "Get all different words from the tweets (with their respectiv frequencies)"
   ]
  },
  {
   "cell_type": "code",
   "execution_count": 55,
   "metadata": {},
   "outputs": [],
   "source": [
    "# get all different words and frequencies\n",
    "def single_words(data):\n",
    "\n",
    "    tweets = data['TweetText'].tolist()\n",
    "    words = []\n",
    "    for sentence in tweets:\n",
    "        words.append(sentence.split())\n",
    "\n",
    "    words = [item for sublist in words for item in sublist]\n",
    "\n",
    "    freqs = dict()\n",
    "    for s in words:\n",
    "        if s in freqs:\n",
    "            freqs[s] += 1\n",
    "        else:\n",
    "            freqs[s] = 1\n",
    "\n",
    "    return freqs\n",
    "\n",
    "words_freqs = single_words(data)"
   ]
  },
  {
   "cell_type": "code",
   "execution_count": 58,
   "metadata": {},
   "outputs": [
    {
     "name": "stdout",
     "output_type": "stream",
     "text": [
      "We have 596500 different words in the dataset.\n"
     ]
    }
   ],
   "source": [
    "print(f'We have {len(words_freqs)} different words in the dataset.')"
   ]
  },
  {
   "cell_type": "code",
   "execution_count": 62,
   "metadata": {},
   "outputs": [
    {
     "data": {
      "image/png": "[encoded data removed]",
      "text/plain": [
       "<Figure size 640x480 with 1 Axes>"
      ]
     },
     "metadata": {},
     "output_type": "display_data"
    }
   ],
   "source": [
    "def plot_loghist(x, bins):\n",
    "    hist, bins = np.histogram(x, bins=bins)\n",
    "    logbins = np.logspace(np.log10(bins[0]),np.log10(bins[-1]),len(bins))\n",
    "    plt.hist(x, bins=logbins)\n",
    "    plt.xscale('log')\n",
    "    plt.yscale('log')\n",
    "\n",
    "plot_loghist(list(words_freqs.values()), 10)"
   ]
  },
  {
   "attachments": {},
   "cell_type": "markdown",
   "metadata": {},
   "source": [
    "### Downloading the pre-trained embedding with CBOW"
   ]
  },
  {
   "cell_type": "code",
   "execution_count": 63,
   "metadata": {},
   "outputs": [],
   "source": [
    "CBOW_vectors = gensim_down.load('word2vec-google-news-300')"
   ]
  },
  {
   "cell_type": "code",
   "execution_count": 72,
   "metadata": {},
   "outputs": [
    {
     "name": "stdout",
     "output_type": "stream",
     "text": [
      "We only transfomred words that are at least 5-times in the dataset.\n",
      "Words overall: 68559 (with 5 appearance)\n",
      "There are 33605 that could be transformed and 34954 that couldn´t.\n",
      "Words that couldn´t be transformed are mapped to the all zero vector.\n"
     ]
    }
   ],
   "source": [
    "def word2vec(words_freqs, n=1):\n",
    "    w2v = dict()\n",
    "    count_in = 0\n",
    "    count_out = 0\n",
    "    count = 0\n",
    "    for key, val in words_freqs.items():\n",
    "        if val >= n:\n",
    "            count += 1\n",
    "            try:\n",
    "                emb = CBOW_vectors[key]\n",
    "                count_in += 1\n",
    "                w2v[key] = emb\n",
    "            except:\n",
    "                emb = np.zeros((300,))\n",
    "                w2v[key] = emb\n",
    "                count_out += 1\n",
    "    \n",
    "    print(f'We only transfomred words that are at least {n}-times in the dataset.\\n'\n",
    "          f'Words overall: {count} (with {n} appearance)\\n'\n",
    "          f'There are {count_in} that could be transformed and {count_out} that couldn´t.\\n'\n",
    "          f'Words that couldn´t be transformed are mapped to the all zero vector.')\n",
    "    \n",
    "    return w2v\n",
    "    \n",
    "w2v = word2vec(words_freqs,5)"
   ]
  },
  {
   "cell_type": "code",
   "execution_count": null,
   "metadata": {},
   "outputs": [],
   "source": []
  },
  {
   "cell_type": "code",
   "execution_count": null,
   "metadata": {},
   "outputs": [],
   "source": []
  },
  {
   "cell_type": "code",
   "execution_count": null,
   "metadata": {},
   "outputs": [],
   "source": []
  }
 ],
 "metadata": {
  "kernelspec": {
   "display_name": "ML4H",
   "language": "python",
   "name": "python3"
  },
  "language_info": {
   "codemirror_mode": {
    "name": "ipython",
    "version": 3
   },
   "file_extension": ".py",
   "mimetype": "text/x-python",
   "name": "python",
   "nbconvert_exporter": "python",
   "pygments_lexer": "ipython3",
   "version": "3.9.5"
  },
  "orig_nbformat": 4
 },
 "nbformat": 4,
 "nbformat_minor": 2
}
