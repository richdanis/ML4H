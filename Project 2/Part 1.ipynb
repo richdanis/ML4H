{
 "cells": [
  {
   "attachments": {},
   "cell_type": "markdown",
   "metadata": {},
   "source": [
    "<h1><p style=\"text-align: center;\">Project 2: AI for Global Health using Natural Language Processing</p></h1>"
   ]
  },
  {
   "attachments": {},
   "cell_type": "markdown",
   "metadata": {},
   "source": [
    "<p style=\"text-align: center;\">Sven Gutjahr, Christian Bertsch, Richard Danis.</p>"
   ]
  },
  {
   "attachments": {},
   "cell_type": "markdown",
   "metadata": {},
   "source": [
    "### Imports"
   ]
  },
  {
   "cell_type": "code",
   "execution_count": 1,
   "metadata": {},
   "outputs": [],
   "source": [
    "import nltk\n",
    "import pandas as pd\n",
    "import matplotlib.pyplot as plt\n",
    "import string\n",
    "import re\n",
    "import preprocessing as p"
   ]
  },
  {
   "attachments": {},
   "cell_type": "markdown",
   "metadata": {},
   "source": [
    "### Part 1: Data pre-processing"
   ]
  },
  {
   "attachments": {},
   "cell_type": "markdown",
   "metadata": {},
   "source": [
    "Describes the methods used to get the dataset: https://data.gesis.org/tweetskb/"
   ]
  },
  {
   "cell_type": "code",
   "execution_count": 2,
   "metadata": {},
   "outputs": [
    {
     "name": "stderr",
     "output_type": "stream",
     "text": [
      "/tmp/ipykernel_51403/3145232326.py:2: DtypeWarning: Columns (0,1) have mixed types. Specify dtype option on import or set low_memory=False.\n",
      "  raw_data = pd.read_csv('data/TweetsCOV19.csv')\n"
     ]
    }
   ],
   "source": [
    "# loading raw data\n",
    "raw_data = pd.read_csv('data/TweetsCOV19.csv')\n",
    "# loading data with preprocessed tweets\n",
    "data = pd.read_csv('data/cleaned_tweets.csv')"
   ]
  },
  {
   "cell_type": "code",
   "execution_count": 4,
   "metadata": {},
   "outputs": [
    {
     "data": {
      "text/plain": [
       "Index(['Unnamed: 0', 'TweetId', 'Username', 'Timestamp', 'NoFollowers',\n",
       "       'NoFriends', 'NoRetweets', 'NoFavorites', 'Entities', 'Sentiment',\n",
       "       'Mentions', 'Hashtags', 'URLs', 'TweetText', 'UserLocation'],\n",
       "      dtype='object')"
      ]
     },
     "execution_count": 4,
     "metadata": {},
     "output_type": "execute_result"
    }
   ],
   "source": [
    "raw_data.columns"
   ]
  },
  {
   "cell_type": "code",
   "execution_count": 5,
   "metadata": {},
   "outputs": [
    {
     "data": {
      "text/html": [
       "<div>\n",
       "<style scoped>\n",
       "    .dataframe tbody tr th:only-of-type {\n",
       "        vertical-align: middle;\n",
       "    }\n",
       "\n",
       "    .dataframe tbody tr th {\n",
       "        vertical-align: top;\n",
       "    }\n",
       "\n",
       "    .dataframe thead th {\n",
       "        text-align: right;\n",
       "    }\n",
       "</style>\n",
       "<table border=\"1\" class=\"dataframe\">\n",
       "  <thead>\n",
       "    <tr style=\"text-align: right;\">\n",
       "      <th></th>\n",
       "      <th>Unnamed: 0</th>\n",
       "      <th>TweetId</th>\n",
       "      <th>Username</th>\n",
       "      <th>Timestamp</th>\n",
       "      <th>NoFollowers</th>\n",
       "      <th>NoFriends</th>\n",
       "      <th>NoRetweets</th>\n",
       "      <th>NoFavorites</th>\n",
       "      <th>Entities</th>\n",
       "      <th>Sentiment</th>\n",
       "      <th>Mentions</th>\n",
       "      <th>Hashtags</th>\n",
       "      <th>URLs</th>\n",
       "      <th>TweetText</th>\n",
       "      <th>UserLocation</th>\n",
       "    </tr>\n",
       "  </thead>\n",
       "  <tbody>\n",
       "    <tr>\n",
       "      <th>0</th>\n",
       "      <td>0</td>\n",
       "      <td>1178793230223183872</td>\n",
       "      <td>bf05d1888dd974fa4a8679c25e2ead03</td>\n",
       "      <td>2019-09-30 22:06:21+00:00</td>\n",
       "      <td>5018.0</td>\n",
       "      <td>1933.0</td>\n",
       "      <td>0.0</td>\n",
       "      <td>0.0</td>\n",
       "      <td>vaccine:Vaccine:-2.6651530673745762;anti vaxxe...</td>\n",
       "      <td>2 -1</td>\n",
       "      <td>null;</td>\n",
       "      <td>null;</td>\n",
       "      <td>https://goo.gl/fb/uoeiPk:-:</td>\n",
       "      <td>From my blog: Californians support vaccine law...</td>\n",
       "      <td>Los Angeles, CA</td>\n",
       "    </tr>\n",
       "  </tbody>\n",
       "</table>\n",
       "</div>"
      ],
      "text/plain": [
       "  Unnamed: 0              TweetId                          Username  \\\n",
       "0          0  1178793230223183872  bf05d1888dd974fa4a8679c25e2ead03   \n",
       "\n",
       "                   Timestamp  NoFollowers  NoFriends  NoRetweets  NoFavorites  \\\n",
       "0  2019-09-30 22:06:21+00:00       5018.0     1933.0         0.0          0.0   \n",
       "\n",
       "                                            Entities Sentiment Mentions  \\\n",
       "0  vaccine:Vaccine:-2.6651530673745762;anti vaxxe...      2 -1    null;   \n",
       "\n",
       "  Hashtags                         URLs  \\\n",
       "0    null;  https://goo.gl/fb/uoeiPk:-:   \n",
       "\n",
       "                                           TweetText     UserLocation  \n",
       "0  From my blog: Californians support vaccine law...  Los Angeles, CA  "
      ]
     },
     "execution_count": 5,
     "metadata": {},
     "output_type": "execute_result"
    }
   ],
   "source": [
    "# structure of the data\n",
    "raw_data.head(1)"
   ]
  },
  {
   "cell_type": "code",
   "execution_count": 6,
   "metadata": {},
   "outputs": [
    {
     "name": "stdout",
     "output_type": "stream",
     "text": [
      "0                                   From my blog: Californians support vaccine laws – new poll diminishes anti-vaxxer power https://t.co/d5BaAda3ki\n",
      "1     Secretary of State should recall Stormont next Monday at 10am.\\nThose MLA’s who refuse to turn up (Whatever Party) s… https://t.co/ZdArVTrKar\n",
      "2      While serving in Afghanistan in 2010, Marine Corporal Brandon Rumbaug was carrying a fellow Marine to safety when h… https://t.co/Dipa5CbN1A\n",
      "3      witch vixen season starts tomorrow. you all should be receiving the spell that turns you into your witchsona at mid… https://t.co/ruYcgfoSdI\n",
      "4    CGTN on the scene: \\n\\nAround 15,000 troops, 32 equipment units and 12 air formations composed of over 160 aircraft a… https://t.co/btVQ5kDgAQ\n",
      "5      Looking like it may be a fall-like weekend coming up! Dry cold front looks to move through the area Friday with hig… https://t.co/qOyZm9sS2B\n",
      "6                                           i stopped caring what niggas think when i realized they will believe anything the next nigga tell them.\n",
      "7      #LIVE: Chaos expected on Oct 1 across Hong Kong as anti-government protesters aim to spoil China's partyl. Follow o… https://t.co/RQH5WoQ3PG\n",
      "8                                                                 I hold @kie_vs_theworld personally responsible for what just happened 🤷🏾‍♂️😂 #RAW\n",
      "9                                                                                                                             @FuckITripped Exactly\n",
      "Name: TweetText, dtype: object\n"
     ]
    }
   ],
   "source": [
    "# display whole content of each column\n",
    "pd.set_option('display.max_colwidth', None)\n",
    "\n",
    "# displaying first 10 tweets\n",
    "print(raw_data['TweetText'][:10])"
   ]
  },
  {
   "cell_type": "code",
   "execution_count": 3,
   "metadata": {},
   "outputs": [
    {
     "name": "stdout",
     "output_type": "stream",
     "text": [
      "0    from my blog californian support vaccine law –...\n",
      "1    secretary of state should recall stormont next...\n",
      "2    while serving in afghanistan in 2010 marine co...\n",
      "3    witch vixen season start tomorrow you all shou...\n",
      "4    cgtn on the scene around 15000 troop 32 equipm...\n",
      "5    looking like it may be a falllike weekend comi...\n",
      "6    i stopped caring what nigga think when i reali...\n",
      "7    live chaos expected on oct 1 across hong kong ...\n",
      "8    i hold kievstheworld personally responsible fo...\n",
      "9                                 fuckitripped exactly\n",
      "Name: TweetText, dtype: object\n"
     ]
    }
   ],
   "source": [
    "print(data['TweetText'][:10])"
   ]
  },
  {
   "cell_type": "code",
   "execution_count": 3,
   "metadata": {},
   "outputs": [],
   "source": [
    "# takes 4 minutes on my laptop\n",
    "tweets = data['TweetText'].tolist()\n",
    "tokenized_tweets = p.tokenization(tweets)"
   ]
  },
  {
   "cell_type": "code",
   "execution_count": 4,
   "metadata": {},
   "outputs": [],
   "source": [
    "def ngram_freq(tweets, n):\n",
    "\n",
    "    ngrams = dict()\n",
    "\n",
    "    for tweet in tweets:\n",
    "        for i in range(len(tweet)-n + 1):\n",
    "            if tuple(tweet[i:i+n]) in ngrams:\n",
    "                ngrams[tuple(tweet[i:i+n])] += 1\n",
    "            else:\n",
    "                ngrams[tuple(tweet[i:i+n])] = 1\n",
    "\n",
    "    ngrams = sorted(ngrams.items(), key=lambda x:-x[1])\n",
    "\n",
    "    return ngrams"
   ]
  },
  {
   "cell_type": "code",
   "execution_count": 5,
   "metadata": {},
   "outputs": [],
   "source": [
    "unigrams = ngram_freq(tokenized_tweets, 1)"
   ]
  },
  {
   "cell_type": "code",
   "execution_count": 6,
   "metadata": {},
   "outputs": [],
   "source": [
    "raw_data = raw_data[raw_data['TweetText'].notnull()]"
   ]
  },
  {
   "cell_type": "code",
   "execution_count": 7,
   "metadata": {},
   "outputs": [],
   "source": [
    "# takes 7 minutes on my laptop\n",
    "raw_tweets = raw_data['TweetText'].tolist()\n",
    "raw_tokenized_tweets = p.tokenization(raw_tweets)"
   ]
  },
  {
   "cell_type": "code",
   "execution_count": 8,
   "metadata": {},
   "outputs": [],
   "source": [
    "raw_unigrams = ngram_freq(raw_tokenized_tweets, 1)\n",
    "raw_bigrams = ngram_freq(raw_tokenized_tweets, 2)\n",
    "bigrams = ngram_freq(tokenized_tweets, 2)"
   ]
  },
  {
   "cell_type": "code",
   "execution_count": 9,
   "metadata": {},
   "outputs": [],
   "source": [
    "pos = [i for i in range(10)]"
   ]
  },
  {
   "cell_type": "code",
   "execution_count": 15,
   "metadata": {},
   "outputs": [
    {
     "data": {
      "image/png": "[encoded data removed]",
      "text/plain": [
       "<Figure size 640x480 with 4 Axes>"
      ]
     },
     "metadata": {},
     "output_type": "display_data"
    },
    {
     "ename": "",
     "evalue": "",
     "output_type": "error",
     "traceback": [
      "\u001b[1;31mThe Kernel crashed while executing code in the the current cell or a previous cell. Please review the code in the cell(s) to identify a possible cause of the failure. Click <a href='https://aka.ms/vscodeJupyterKernelCrash'>here</a> for more info. View Jupyter <a href='command:jupyter.viewOutput'>log</a> for further details."
     ]
    }
   ],
   "source": [
    "fig, ax = plt.subplots(2, 2, sharey='row')\n",
    "\n",
    "titles = [' top 10 unigrams before preprocessing', 'top 10 unigrams after preprocessing', 'top 10 bigrams before preprocessing', 'top 10 bigrams after preprocessing']\n",
    "grams = [raw_unigrams, unigrams, raw_bigrams, bigrams]\n",
    "\n",
    "for i, (title, gram) in enumerate(zip(titles, grams)):\n",
    "\n",
    "    words = [gram[j][0][0] for j in range(10)]\n",
    "    if i > 1:\n",
    "        words = [' '.join(gram[j][0]) for j in range(10)]\n",
    "    freq = [gram[j][1] for j in range(10)]\n",
    "\n",
    "    font {'fontsize': rcParams['axes.titlesize'],\n",
    "    'fontweight' : rcParams['axes.titleweight'],\n",
    "    'verticalalignment': 'baseline',\n",
    "    'horizontalalignment': loc}\n",
    "\n",
    "    ax[i//2][i % 2].bar(pos, freq, align='center', alpha=0.8)\n",
    "    ax[i//2][i % 2].set_xticks(pos)\n",
    "    ax[i//2][i % 2].set_xticklabels(words)\n",
    "    ax[i//2][i % 2].set_title(title)\n",
    "\n",
    "plt.tight_layout()\n",
    "plt.show()"
   ]
  },
  {
   "cell_type": "code",
   "execution_count": null,
   "metadata": {},
   "outputs": [],
   "source": []
  }
 ],
 "metadata": {
  "kernelspec": {
   "display_name": "pytcu10",
   "language": "python",
   "name": "python3"
  },
  "language_info": {
   "codemirror_mode": {
    "name": "ipython",
    "version": 3
   },
   "file_extension": ".py",
   "mimetype": "text/x-python",
   "name": "python",
   "nbconvert_exporter": "python",
   "pygments_lexer": "ipython3",
   "version": "3.9.11"
  },
  "orig_nbformat": 4
 },
 "nbformat": 4,
 "nbformat_minor": 2
}
