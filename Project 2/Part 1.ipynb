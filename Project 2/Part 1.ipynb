{
 "cells": [
  {
   "attachments": {},
   "cell_type": "markdown",
   "metadata": {},
   "source": [
    "<h1><p style=\"text-align: center;\">Project 2: AI for Global Health using Natural Language Processing</p></h1>"
   ]
  },
  {
   "attachments": {},
   "cell_type": "markdown",
   "metadata": {},
   "source": [
    "<p style=\"text-align: center;\">Sven Gutjahr, Christian Bertsch, Richard Danis.</p>"
   ]
  },
  {
   "attachments": {},
   "cell_type": "markdown",
   "metadata": {},
   "source": [
    "### Disclaimer\n",
    "Our report is contained together with our code in jupyter notebooks. We made sure to make the files well structured and to provide explanations, where necessary. After installing the required packages the cells can be run consecutively."
   ]
  },
  {
   "attachments": {},
   "cell_type": "markdown",
   "metadata": {},
   "source": [
    "### Imports"
   ]
  },
  {
   "cell_type": "code",
   "execution_count": 10,
   "metadata": {},
   "outputs": [],
   "source": [
    "import nltk\n",
    "import pandas as pd"
   ]
  },
  {
   "attachments": {},
   "cell_type": "markdown",
   "metadata": {},
   "source": [
    "### Part 1: Data pre-processing"
   ]
  },
  {
   "attachments": {},
   "cell_type": "markdown",
   "metadata": {},
   "source": [
    "Describes the methods used to get the dataset: https://data.gesis.org/tweetskb/"
   ]
  },
  {
   "cell_type": "code",
   "execution_count": 11,
   "metadata": {},
   "outputs": [],
   "source": [
    "# loading the first 10 rows of the csv\n",
    "first_tweets = pd.read_csv('data/TweetsCOV19.csv', nrows=10)"
   ]
  },
  {
   "cell_type": "code",
   "execution_count": 12,
   "metadata": {},
   "outputs": [
    {
     "data": {
      "text/plain": [
       "Index(['Unnamed: 0', 'TweetId', 'Username', 'Timestamp', 'NoFollowers',\n",
       "       'NoFriends', 'NoRetweets', 'NoFavorites', 'Entities', 'Sentiment',\n",
       "       'Mentions', 'Hashtags', 'URLs', 'TweetText', 'UserLocation'],\n",
       "      dtype='object')"
      ]
     },
     "execution_count": 12,
     "metadata": {},
     "output_type": "execute_result"
    }
   ],
   "source": [
    "first_tweets.columns"
   ]
  },
  {
   "cell_type": "code",
   "execution_count": 13,
   "metadata": {},
   "outputs": [
    {
     "data": {
      "text/html": [
       "<div>\n",
       "<style scoped>\n",
       "    .dataframe tbody tr th:only-of-type {\n",
       "        vertical-align: middle;\n",
       "    }\n",
       "\n",
       "    .dataframe tbody tr th {\n",
       "        vertical-align: top;\n",
       "    }\n",
       "\n",
       "    .dataframe thead th {\n",
       "        text-align: right;\n",
       "    }\n",
       "</style>\n",
       "<table border=\"1\" class=\"dataframe\">\n",
       "  <thead>\n",
       "    <tr style=\"text-align: right;\">\n",
       "      <th></th>\n",
       "      <th>Unnamed: 0</th>\n",
       "      <th>TweetId</th>\n",
       "      <th>Username</th>\n",
       "      <th>Timestamp</th>\n",
       "      <th>NoFollowers</th>\n",
       "      <th>NoFriends</th>\n",
       "      <th>NoRetweets</th>\n",
       "      <th>NoFavorites</th>\n",
       "      <th>Entities</th>\n",
       "      <th>Sentiment</th>\n",
       "      <th>Mentions</th>\n",
       "      <th>Hashtags</th>\n",
       "      <th>URLs</th>\n",
       "      <th>TweetText</th>\n",
       "      <th>UserLocation</th>\n",
       "    </tr>\n",
       "  </thead>\n",
       "  <tbody>\n",
       "    <tr>\n",
       "      <th>0</th>\n",
       "      <td>0</td>\n",
       "      <td>1178793230223183872</td>\n",
       "      <td>bf05d1888dd974fa4a8679c25e2ead03</td>\n",
       "      <td>2019-09-30 22:06:21+00:00</td>\n",
       "      <td>5018</td>\n",
       "      <td>1933</td>\n",
       "      <td>0</td>\n",
       "      <td>0</td>\n",
       "      <td>vaccine:Vaccine:-2.6651530673745762;anti vaxxe...</td>\n",
       "      <td>2 -1</td>\n",
       "      <td>null;</td>\n",
       "      <td>null;</td>\n",
       "      <td>https://goo.gl/fb/uoeiPk:-:</td>\n",
       "      <td>From my blog: Californians support vaccine law...</td>\n",
       "      <td>Los Angeles, CA</td>\n",
       "    </tr>\n",
       "  </tbody>\n",
       "</table>\n",
       "</div>"
      ],
      "text/plain": [
       "   Unnamed: 0              TweetId                          Username  \\\n",
       "0           0  1178793230223183872  bf05d1888dd974fa4a8679c25e2ead03   \n",
       "\n",
       "                   Timestamp  NoFollowers  NoFriends  NoRetweets  NoFavorites  \\\n",
       "0  2019-09-30 22:06:21+00:00         5018       1933           0            0   \n",
       "\n",
       "                                            Entities Sentiment Mentions  \\\n",
       "0  vaccine:Vaccine:-2.6651530673745762;anti vaxxe...      2 -1    null;   \n",
       "\n",
       "  Hashtags                         URLs  \\\n",
       "0    null;  https://goo.gl/fb/uoeiPk:-:   \n",
       "\n",
       "                                           TweetText     UserLocation  \n",
       "0  From my blog: Californians support vaccine law...  Los Angeles, CA  "
      ]
     },
     "execution_count": 13,
     "metadata": {},
     "output_type": "execute_result"
    }
   ],
   "source": [
    "# structure of the data\n",
    "first_tweets.head(1)"
   ]
  },
  {
   "cell_type": "code",
   "execution_count": 15,
   "metadata": {},
   "outputs": [
    {
     "data": {
      "text/plain": [
       "0                                  From my blog: Californians support vaccine laws – new poll diminishes anti-vaxxer power https://t.co/d5BaAda3ki\n",
       "1    Secretary of State should recall Stormont next Monday at 10am.\\nThose MLA’s who refuse to turn up (Whatever Party) s… https://t.co/ZdArVTrKar\n",
       "2     While serving in Afghanistan in 2010, Marine Corporal Brandon Rumbaug was carrying a fellow Marine to safety when h… https://t.co/Dipa5CbN1A\n",
       "3     witch vixen season starts tomorrow. you all should be receiving the spell that turns you into your witchsona at mid… https://t.co/ruYcgfoSdI\n",
       "Name: TweetText, dtype: object"
      ]
     },
     "execution_count": 15,
     "metadata": {},
     "output_type": "execute_result"
    }
   ],
   "source": [
    "# display whole content of each column\n",
    "pd.set_option('display.max_colwidth', None)\n",
    "\n",
    "# extracting the first tweet\n",
    "first_tweets['TweetText'][0:4]"
   ]
  },
  {
   "cell_type": "code",
   "execution_count": null,
   "metadata": {},
   "outputs": [],
   "source": []
  }
 ],
 "metadata": {
  "kernelspec": {
   "display_name": "pytcu10",
   "language": "python",
   "name": "python3"
  },
  "language_info": {
   "codemirror_mode": {
    "name": "ipython",
    "version": 3
   },
   "file_extension": ".py",
   "mimetype": "text/x-python",
   "name": "python",
   "nbconvert_exporter": "python",
   "pygments_lexer": "ipython3",
   "version": "3.9.11"
  },
  "orig_nbformat": 4
 },
 "nbformat": 4,
 "nbformat_minor": 2
}
