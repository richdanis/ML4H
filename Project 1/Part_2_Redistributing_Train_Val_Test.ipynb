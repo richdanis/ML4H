{
 "cells": [
  {
   "cell_type": "code",
   "execution_count": 1,
   "id": "a6fbadff",
   "metadata": {},
   "outputs": [],
   "source": [
    "# Imports\n",
    "import matplotlib.pyplot as plt\n",
    "import numpy as np\n",
    "import pandas as pd\n",
    "from sklearn.model_selection import train_test_split\n",
    "\n",
    "import os"
   ]
  },
  {
   "cell_type": "code",
   "execution_count": 2,
   "id": "d6bafa57",
   "metadata": {},
   "outputs": [],
   "source": [
    "# fix seeds\n",
    "np.random.seed(13)"
   ]
  },
  {
   "cell_type": "code",
   "execution_count": 3,
   "id": "19213cdf",
   "metadata": {},
   "outputs": [
    {
     "data": {
      "text/html": [
       "<div>\n",
       "<style scoped>\n",
       "    .dataframe tbody tr th:only-of-type {\n",
       "        vertical-align: middle;\n",
       "    }\n",
       "\n",
       "    .dataframe tbody tr th {\n",
       "        vertical-align: top;\n",
       "    }\n",
       "\n",
       "    .dataframe thead th {\n",
       "        text-align: right;\n",
       "    }\n",
       "</style>\n",
       "<table border=\"1\" class=\"dataframe\">\n",
       "  <thead>\n",
       "    <tr style=\"text-align: right;\">\n",
       "      <th></th>\n",
       "      <th>folder</th>\n",
       "      <th>NORMAL</th>\n",
       "      <th>PNEUMONIA</th>\n",
       "    </tr>\n",
       "  </thead>\n",
       "  <tbody>\n",
       "    <tr>\n",
       "      <th>0</th>\n",
       "      <td>train</td>\n",
       "      <td>1341</td>\n",
       "      <td>3875</td>\n",
       "    </tr>\n",
       "    <tr>\n",
       "      <th>1</th>\n",
       "      <td>test</td>\n",
       "      <td>234</td>\n",
       "      <td>390</td>\n",
       "    </tr>\n",
       "    <tr>\n",
       "      <th>2</th>\n",
       "      <td>val</td>\n",
       "      <td>8</td>\n",
       "      <td>8</td>\n",
       "    </tr>\n",
       "  </tbody>\n",
       "</table>\n",
       "</div>"
      ],
      "text/plain": [
       "  folder  NORMAL  PNEUMONIA\n",
       "0  train    1341       3875\n",
       "1   test     234        390\n",
       "2    val       8          8"
      ]
     },
     "execution_count": 3,
     "metadata": {},
     "output_type": "execute_result"
    }
   ],
   "source": [
    "def get_names():\n",
    "    li = []\n",
    "    picture = 'chest_xray/'\n",
    "    for folder in ['train/','test/','val/']:\n",
    "        normal = 0\n",
    "        pneu = 0\n",
    "        for kind in ['NORMAL/','PNEUMONIA/']:\n",
    "            directory = picture+folder+kind\n",
    "            for filename in os.listdir(directory):\n",
    "                f = os.path.join(directory, filename)\n",
    "                if os.path.isfile(f):\n",
    "                    if kind == 'NORMAL/':\n",
    "                        normal += 1\n",
    "                    else:\n",
    "                        pneu += 1    \n",
    "                \n",
    "        li.append((folder[:-1],normal,pneu))           \n",
    "\n",
    "    df = pd.DataFrame(li, columns=['folder','NORMAL','PNEUMONIA'])\n",
    "    return df\n",
    "\n",
    "data = get_names()\n",
    "data"
   ]
  },
  {
   "cell_type": "code",
   "execution_count": 4,
   "id": "907302a1",
   "metadata": {},
   "outputs": [
    {
     "data": {
      "text/plain": [
       "<AxesSubplot:title={'center':'Distribution of Labels'}, xlabel='Folder'>"
      ]
     },
     "execution_count": 4,
     "metadata": {},
     "output_type": "execute_result"
    },
    {
     "data": {
      "image/png": "[encoded data removed]",
      "text/plain": [
       "<Figure size 720x288 with 1 Axes>"
      ]
     },
     "metadata": {
      "needs_background": "light"
     },
     "output_type": "display_data"
    }
   ],
   "source": [
    "data.plot.bar(x='folder',rot=0,figsize=(10,4),title='Distribution of Labels',xlabel='Folder',fontsize='large')"
   ]
  },
  {
   "cell_type": "code",
   "execution_count": 5,
   "id": "c84cd906",
   "metadata": {},
   "outputs": [
    {
     "name": "stdout",
     "output_type": "stream",
     "text": [
      "Healthy patients: 1583 (in total)\n",
      "Sick patients: 4273 (in total)\n"
     ]
    }
   ],
   "source": [
    "norm = sum(data[\"NORMAL\"])\n",
    "sick = sum(data[\"PNEUMONIA\"])\n",
    "\n",
    "print(f'Healthy patients: {norm} (in total)')\n",
    "print(f'Sick patients: {sick} (in total)')"
   ]
  },
  {
   "cell_type": "code",
   "execution_count": 6,
   "id": "dc138b6f",
   "metadata": {},
   "outputs": [
    {
     "data": {
      "text/plain": [
       "True"
      ]
     },
     "execution_count": 6,
     "metadata": {},
     "output_type": "execute_result"
    }
   ],
   "source": [
    "norm == 1109+237+237"
   ]
  },
  {
   "cell_type": "code",
   "execution_count": 7,
   "id": "4f566d7d",
   "metadata": {},
   "outputs": [
    {
     "data": {
      "text/plain": [
       "True"
      ]
     },
     "execution_count": 7,
     "metadata": {},
     "output_type": "execute_result"
    }
   ],
   "source": [
    "sick == 2991+641+641"
   ]
  },
  {
   "cell_type": "code",
   "execution_count": 8,
   "id": "6ae99d33",
   "metadata": {},
   "outputs": [],
   "source": [
    "def check_count():\n",
    "    picture = 'chest_xray/'\n",
    "    for kind in ['NORMAL/','PNEUMONIA/']:\n",
    "        li = []\n",
    "        for folder in ['train/','val/','test/']:\n",
    "            directory = picture+folder+kind\n",
    "            for filename in os.listdir(directory):\n",
    "                f = os.path.join(directory, filename)\n",
    "                if os.path.isfile(f):   \n",
    "                    li.append(str(f))           \n",
    "\n",
    "        df = pd.DataFrame(li, columns=['path'])\n",
    "        df.to_csv('chest_xray_re/'+kind[:-1]+'.csv',index=False)\n",
    "    return\n",
    "\n",
    "check_count()"
   ]
  },
  {
   "cell_type": "code",
   "execution_count": 9,
   "id": "77af320d",
   "metadata": {},
   "outputs": [],
   "source": [
    "def get_csv(dataset):\n",
    "    path = f'chest_xray_re/{dataset}.csv'\n",
    "    data = pd.read_csv(path)\n",
    "    return data\n",
    "\n",
    "normal = get_csv(dataset=\"NORMAL\")\n",
    "PNEU   = get_csv(dataset=\"PNEUMONIA\")\n",
    "assert normal.shape[0] == norm\n",
    "assert PNEU.shape[0] == sick"
   ]
  },
  {
   "cell_type": "code",
   "execution_count": 10,
   "id": "46092403",
   "metadata": {},
   "outputs": [
    {
     "name": "stdout",
     "output_type": "stream",
     "text": [
      "Train: (1109, 2) | (2991, 2)\n",
      "Val:   (237, 2) | (641, 2)\n",
      "Test: (237, 2) | (641, 2)\n"
     ]
    }
   ],
   "source": [
    "norm_train, norm_val_test = train_test_split(normal, test_size=237+237, train_size=1109, random_state=13)\n",
    "norm_val, norm_test = train_test_split(norm_val_test, test_size=237, train_size=237, random_state=13)\n",
    "\n",
    "norm_train['label'] = 0\n",
    "norm_val['label'] = 0\n",
    "norm_test['label'] = 0\n",
    "\n",
    "pneu_train, pneu_val_test = train_test_split(PNEU, test_size=641+641, train_size=2991, random_state=13)\n",
    "pneu_val, pneu_test = train_test_split(pneu_val_test, test_size=641, train_size=641, random_state=13)\n",
    "\n",
    "pneu_train['label'] = 1\n",
    "pneu_val['label'] = 1\n",
    "pneu_test['label'] = 1\n",
    "\n",
    "print(f'Train: {norm_train.shape} | {pneu_train.shape}')\n",
    "print(f'Val:   {norm_val.shape} | {pneu_val.shape}')\n",
    "print(f'Test: {norm_test.shape} | {pneu_test.shape}')"
   ]
  },
  {
   "cell_type": "code",
   "execution_count": 11,
   "id": "dc6801c6",
   "metadata": {},
   "outputs": [
    {
     "name": "stdout",
     "output_type": "stream",
     "text": [
      "Train: (4100, 2)\n",
      "Val: (878, 2)\n",
      "Test: (878, 2)\n"
     ]
    }
   ],
   "source": [
    "train = pd.concat([norm_train, pneu_train], ignore_index=True, sort=False)\n",
    "val = pd.concat([norm_val, pneu_val], ignore_index=True, sort=False)\n",
    "test = pd.concat([norm_test, pneu_test], ignore_index=True, sort=False)\n",
    "\n",
    "print(f'Train: {train.shape}')\n",
    "print(f'Val: {val.shape}')\n",
    "print(f'Test: {test.shape}')"
   ]
  },
  {
   "cell_type": "code",
   "execution_count": 12,
   "id": "1d7adac2",
   "metadata": {},
   "outputs": [],
   "source": [
    "import shutil\n",
    "\n",
    "# norm_train, norm_val, norm_test\n",
    "# pneu_train, pneu_val, pneu_test\n",
    "\n",
    "def move_files(to, kind, folder):\n",
    "    picture = 'chest_xray_re/' + kind\n",
    "    path = 'chest_xray_re/' + to\n",
    "\n",
    "    for index, row in folder.iterrows():\n",
    "        from_path = row['path']\n",
    "        to_path = path+row['path'][len(picture):]\n",
    "        shutil.move(from_path, to_path)\n",
    "                         \n",
    "    return\n",
    "\n",
    "#kind = ['NORMAL/','PNEUMONIA/']                 \n",
    "#folder = ['train/','test/','val/']\n",
    "#move_files('test/','PNEUMONIA/', pneu_test)"
   ]
  },
  {
   "cell_type": "code",
   "execution_count": 13,
   "id": "97e064f3",
   "metadata": {},
   "outputs": [],
   "source": [
    "# train.to_csv('chest_xray_re/train.csv',index=False)\n",
    "# val.to_csv('chest_xray_re/val.csv',index=False)\n",
    "# test.to_csv('chest_xray_re/test.csv',index=False)"
   ]
  },
  {
   "cell_type": "code",
   "execution_count": 14,
   "id": "6757f6b2",
   "metadata": {
    "scrolled": true
   },
   "outputs": [
    {
     "data": {
      "text/html": [
       "<div>\n",
       "<style scoped>\n",
       "    .dataframe tbody tr th:only-of-type {\n",
       "        vertical-align: middle;\n",
       "    }\n",
       "\n",
       "    .dataframe tbody tr th {\n",
       "        vertical-align: top;\n",
       "    }\n",
       "\n",
       "    .dataframe thead th {\n",
       "        text-align: right;\n",
       "    }\n",
       "</style>\n",
       "<table border=\"1\" class=\"dataframe\">\n",
       "  <thead>\n",
       "    <tr style=\"text-align: right;\">\n",
       "      <th></th>\n",
       "      <th>folder</th>\n",
       "      <th>NORMAL</th>\n",
       "      <th>PNEUMONIA</th>\n",
       "    </tr>\n",
       "  </thead>\n",
       "  <tbody>\n",
       "    <tr>\n",
       "      <th>0</th>\n",
       "      <td>train</td>\n",
       "      <td>1109</td>\n",
       "      <td>2991</td>\n",
       "    </tr>\n",
       "    <tr>\n",
       "      <th>1</th>\n",
       "      <td>test</td>\n",
       "      <td>237</td>\n",
       "      <td>641</td>\n",
       "    </tr>\n",
       "    <tr>\n",
       "      <th>2</th>\n",
       "      <td>val</td>\n",
       "      <td>237</td>\n",
       "      <td>641</td>\n",
       "    </tr>\n",
       "  </tbody>\n",
       "</table>\n",
       "</div>"
      ],
      "text/plain": [
       "  folder  NORMAL  PNEUMONIA\n",
       "0  train    1109       2991\n",
       "1   test     237        641\n",
       "2    val     237        641"
      ]
     },
     "execution_count": 14,
     "metadata": {},
     "output_type": "execute_result"
    }
   ],
   "source": [
    "def get_reshuffle():\n",
    "    li = []\n",
    "    picture = 'chest_xray_re/'\n",
    "    for kind in ['train','test','val']:\n",
    "        data = pd.read_csv(picture+kind+'.csv')\n",
    "        norm = data['label']==0\n",
    "        sick = data['label']==1\n",
    "        \n",
    "        norm_num = data[norm].shape[0]\n",
    "        sick_num = data[sick].shape[0]\n",
    "        li.append((kind,norm_num,sick_num))\n",
    "        \n",
    "    df = pd.DataFrame(li, columns=['folder','NORMAL','PNEUMONIA'])\n",
    "    return df\n",
    "\n",
    "data = get_reshuffle()\n",
    "data"
   ]
  },
  {
   "cell_type": "code",
   "execution_count": 15,
   "id": "ee7ca180",
   "metadata": {},
   "outputs": [
    {
     "data": {
      "text/plain": [
       "<AxesSubplot:title={'center':'Distribution of Labels'}, xlabel='Folder'>"
      ]
     },
     "execution_count": 15,
     "metadata": {},
     "output_type": "execute_result"
    },
    {
     "data": {
      "image/png": "[encoded data removed]",
      "text/plain": [
       "<Figure size 720x288 with 1 Axes>"
      ]
     },
     "metadata": {
      "needs_background": "light"
     },
     "output_type": "display_data"
    }
   ],
   "source": [
    "data.plot.bar(x='folder',rot=0,figsize=(10,4),title='Distribution of Labels',xlabel='Folder',fontsize='large')"
   ]
  },
  {
   "cell_type": "code",
   "execution_count": null,
   "id": "c0c37fa0",
   "metadata": {},
   "outputs": [],
   "source": []
  },
  {
   "cell_type": "code",
   "execution_count": null,
   "id": "6df85be1",
   "metadata": {},
   "outputs": [],
   "source": []
  },
  {
   "cell_type": "code",
   "execution_count": null,
   "id": "efb00398",
   "metadata": {},
   "outputs": [],
   "source": []
  }
 ],
 "metadata": {
  "kernelspec": {
   "display_name": "Genomics",
   "language": "python",
   "name": "genomics"
  },
  "language_info": {
   "codemirror_mode": {
    "name": "ipython",
    "version": 3
   },
   "file_extension": ".py",
   "mimetype": "text/x-python",
   "name": "python",
   "nbconvert_exporter": "python",
   "pygments_lexer": "ipython3",
   "version": "3.9.5"
  }
 },
 "nbformat": 4,
 "nbformat_minor": 5
}
