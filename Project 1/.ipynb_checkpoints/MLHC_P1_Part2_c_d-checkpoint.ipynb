{
 "cells": [
  {
   "cell_type": "markdown",
   "metadata": {
    "id": "t3QhHcr7Cels"
   },
   "source": [
    "All our imports and librays we use to create the submission"
   ]
  },
  {
   "cell_type": "code",
   "execution_count": 1,
   "metadata": {
    "executionInfo": {
     "elapsed": 6766,
     "status": "ok",
     "timestamp": 1681243587916,
     "user": {
      "displayName": "Moin_Meister (Svlg)",
      "userId": "16105956636675639827"
     },
     "user_tz": -120
    },
    "id": "_RgwcBJFi6zo"
   },
   "outputs": [],
   "source": [
    "# Import \n",
    "import os\n",
    "\n",
    "# Math and Stats\n",
    "import pandas as pd\n",
    "import numpy as np\n",
    "from sklearn.metrics import f1_score, accuracy_score\n",
    "from tqdm import tqdm\n",
    "\n",
    "# Visu\n",
    "from PIL import Image\n",
    "import seaborn as sns\n",
    "import matplotlib.pyplot as plt\n",
    "\n",
    "# NN\n",
    "import torch\n",
    "import torchvision\n",
    "import torch.nn as nn\n",
    "import torch.nn.functional as F\n",
    "import torchvision.transforms as T\n",
    "from torch.utils.data import DataLoader, Dataset\n",
    "\n",
    "# Explain\n",
    "from captum.attr import IntegratedGradients, LayerGradCam\n",
    "from captum.attr import visualization as viz"
   ]
  },
  {
   "cell_type": "markdown",
   "metadata": {
    "id": "4ZTSoU1BDcuN"
   },
   "source": [
    "Our settings and device choice and the fixing of the seeds"
   ]
  },
  {
   "cell_type": "code",
   "execution_count": 2,
   "metadata": {
    "colab": {
     "base_uri": "https://localhost:8080/"
    },
    "executionInfo": {
     "elapsed": 716,
     "status": "ok",
     "timestamp": 1681243590374,
     "user": {
      "displayName": "Moin_Meister (Svlg)",
      "userId": "16105956636675639827"
     },
     "user_tz": -120
    },
    "id": "uFWcHduNmpOh",
    "outputId": "dbd77d19-a757-4b4f-ce2b-62e0b223e253"
   },
   "outputs": [
    {
     "data": {
      "text/plain": [
       "device(type='cpu')"
      ]
     },
     "execution_count": 2,
     "metadata": {},
     "output_type": "execute_result"
    }
   ],
   "source": [
    "# fix seeds\n",
    "torch.manual_seed(42)\n",
    "np.random.seed(42)\n",
    "# Settings\n",
    "use_cuda = torch.cuda.is_available()\n",
    "device = torch.device(\"cuda:0\" if use_cuda else \"cpu\")\n",
    "torch.backends.cudnn.benchmark = True\n",
    "device"
   ]
  },
  {
   "cell_type": "markdown",
   "metadata": {
    "id": "3Up3tDJGjjr7"
   },
   "source": [
    "Creating all the data loaders and data sets used for training the model and the importing of the data"
   ]
  },
  {
   "cell_type": "code",
   "execution_count": 3,
   "metadata": {
    "executionInfo": {
     "elapsed": 1227,
     "status": "ok",
     "timestamp": 1681243626445,
     "user": {
      "displayName": "Moin_Meister (Svlg)",
      "userId": "16105956636675639827"
     },
     "user_tz": -120
    },
    "id": "0zv8CTczw9TN"
   },
   "outputs": [],
   "source": [
    "class XRayDataset(Dataset):\n",
    "\n",
    "    def __init__(self, dataset, data, size = 224):\n",
    "        self.path = f'chest_xray_re/{dataset}/'\n",
    "        self.file = data['path']\n",
    "        self.label = data['label']\n",
    "        self.len = data.shape[0]\n",
    "        self.size = size\n",
    "        self.transform = T.Compose([T.ToTensor(),T.Resize((self.size, self.size))])\n",
    "\n",
    "    def __len__(self):\n",
    "        return self.len\n",
    "\n",
    "    def __getitem__(self, idx):\n",
    "        label = torch.tensor(self.label.iloc[idx]).reshape(-1).to(torch.float32)\n",
    "        f = self.path + self.file.iloc[idx]\n",
    "        image = Image.open(f)\n",
    "        image_tensor = self.transform(image)\n",
    "        \n",
    "        if image_tensor.shape == (3,self.size,self.size):\n",
    "            data_tensor = 0.299*image_tensor[0,:,:]+0.587*image_tensor[1,:,:]+0.114*image_tensor[2,:,:]\n",
    "            data_tensor = torch.unsqueeze(data_tensor,dim=0)\n",
    "        else:\n",
    "            data_tensor = image_tensor\n",
    "        \n",
    "        return data_tensor, label"
   ]
  },
  {
   "cell_type": "code",
   "execution_count": 4,
   "metadata": {
    "executionInfo": {
     "elapsed": 3642,
     "status": "ok",
     "timestamp": 1681243637388,
     "user": {
      "displayName": "Moin_Meister (Svlg)",
      "userId": "16105956636675639827"
     },
     "user_tz": -120
    },
    "id": "Xrd2pRhejpLS"
   },
   "outputs": [],
   "source": [
    "def get_loaders(dataset, batch_size=42, shuffle=True):\n",
    "    \n",
    "    path = f'chest_xray_re/{dataset}.csv'\n",
    "    data = pd.read_csv(path)\n",
    "    \n",
    "    train_dataset = XRayDataset(dataset, data)\n",
    "    loader = DataLoader(train_dataset, batch_size=batch_size, shuffle=shuffle, num_workers=0)\n",
    "    \n",
    "    return loader\n",
    "\n",
    "test_loader = get_loaders(dataset=\"test\", batch_size = 4)"
   ]
  },
  {
   "cell_type": "markdown",
   "metadata": {
    "id": "J0IkV7eHE1rr"
   },
   "source": [
    "### Model architecture"
   ]
  },
  {
   "cell_type": "code",
   "execution_count": 5,
   "metadata": {
    "executionInfo": {
     "elapsed": 6363,
     "status": "ok",
     "timestamp": 1681243732561,
     "user": {
      "displayName": "Moin_Meister (Svlg)",
      "userId": "16105956636675639827"
     },
     "user_tz": -120
    },
    "id": "o7vbwnbiBwWo"
   },
   "outputs": [],
   "source": [
    "class VGG_small(nn.Module):\n",
    "    def __init__(self):\n",
    "        super(VGG_small, self).__init__()\n",
    "        self.layer1 = nn.Sequential(\n",
    "            nn.Conv2d(1, 64, kernel_size=3, stride=1, padding=1),\n",
    "            nn.BatchNorm2d(64),\n",
    "            nn.ReLU())\n",
    "        self.layer2 = nn.Sequential(\n",
    "            nn.Conv2d(64, 64, kernel_size=3, stride=1, padding=1),\n",
    "            nn.BatchNorm2d(64),\n",
    "            nn.ReLU(), \n",
    "            nn.MaxPool2d(kernel_size = 2, stride = 2))\n",
    "        self.layer3 = nn.Sequential(\n",
    "            nn.Conv2d(64, 128, kernel_size=3, stride=1, padding=1),\n",
    "            nn.BatchNorm2d(128),\n",
    "            nn.ReLU())\n",
    "        self.layer4 = nn.Sequential(\n",
    "            nn.Conv2d(128, 128, kernel_size=3, stride=1, padding=1),\n",
    "            nn.BatchNorm2d(128),\n",
    "            nn.ReLU(),\n",
    "            nn.MaxPool2d(kernel_size = 2, stride = 2))\n",
    "        self.layer5 = nn.Sequential(\n",
    "            nn.Conv2d(128, 256, kernel_size=3, stride=1, padding=1),\n",
    "            nn.BatchNorm2d(256),\n",
    "            nn.ReLU())\n",
    "        self.layer7 = nn.Sequential(\n",
    "            nn.Conv2d(256, 256, kernel_size=3, stride=1, padding=1),\n",
    "            nn.BatchNorm2d(256),\n",
    "            nn.ReLU(),\n",
    "            nn.MaxPool2d(kernel_size = 2, stride = 2))\n",
    "        self.layer8 = nn.Sequential(\n",
    "            nn.Conv2d(256, 512, kernel_size=3, stride=1, padding=1),\n",
    "            nn.BatchNorm2d(512),\n",
    "            nn.ReLU())\n",
    "        self.layer10 = nn.Sequential(\n",
    "            nn.Conv2d(512, 512, kernel_size=3, stride=1, padding=1),\n",
    "            nn.BatchNorm2d(512),\n",
    "            nn.ReLU(),\n",
    "            nn.MaxPool2d(kernel_size = 2, stride = 2))\n",
    "        self.layer11 = nn.Sequential(\n",
    "            nn.Conv2d(512, 512, kernel_size=3, stride=1, padding=1),\n",
    "            nn.BatchNorm2d(512),\n",
    "            nn.ReLU())\n",
    "        self.layer13 = nn.Sequential(\n",
    "            nn.Conv2d(512, 512, kernel_size=3, stride=1, padding=1),\n",
    "            nn.BatchNorm2d(512),\n",
    "            nn.ReLU(),\n",
    "            nn.MaxPool2d(kernel_size = 2, stride = 2))\n",
    "        self.fc = nn.Sequential(\n",
    "            nn.Dropout(0.5),\n",
    "            nn.Linear(7*7*512, 3072),\n",
    "            nn.ReLU())\n",
    "        self.fc1 = nn.Sequential(\n",
    "            nn.Dropout(0.5),\n",
    "            nn.Linear(3072, 3072),\n",
    "            nn.ReLU())\n",
    "        self.fc2 = nn.Sequential(\n",
    "            nn.Linear(3072, 1))\n",
    "        \n",
    "    def forward(self, x):\n",
    "        out = self.layer1(x)\n",
    "        out = self.layer2(out)\n",
    "        out = self.layer3(out)\n",
    "        out = self.layer4(out)\n",
    "        out = self.layer5(out)\n",
    "        out = self.layer7(out)\n",
    "        out = self.layer8(out)\n",
    "        out = self.layer10(out)\n",
    "        out = self.layer11(out)\n",
    "        out = self.layer13(out)\n",
    "        out = out.reshape(out.size(0), -1)\n",
    "        out = self.fc(out)\n",
    "        out = self.fc1(out)\n",
    "        out = self.fc2(out)\n",
    "        return out\n",
    "    \n",
    "model = VGG_small().to(device)"
   ]
  },
  {
   "cell_type": "markdown",
   "metadata": {
    "id": "kxUoE_fyE-u4"
   },
   "source": [
    "### Training or loading a model"
   ]
  },
  {
   "cell_type": "code",
   "execution_count": 6,
   "metadata": {
    "scrolled": true
   },
   "outputs": [
    {
     "name": "stdout",
     "output_type": "stream",
     "text": [
      "Using existing trained model\n"
     ]
    }
   ],
   "source": [
    "USE_PRETRAINED_MODEL = True\n",
    "\n",
    "if USE_PRETRAINED_MODEL:\n",
    "    model.load_state_dict(torch.load('chest_xray_re/model_best_vgg_small_dict.pt',map_location=device))\n",
    "    print(\"Using existing trained model\")\n",
    "    model.eval()\n",
    "else:\n",
    "    train_loop(model, train_loader, val_loader, loss_fn, optim, device)\n",
    "            # Epoch 20\n",
    "            # Train-loss: 0.06441 | Val-loss: 0.4043\n",
    "            # Accuracy:   88.952% | F1-Score: 0.91964\n",
    "\n",
    "            # Best Accuracy: 0.96014 in Epoch 19\n",
    "\n",
    "    print('Finished Training')"
   ]
  },
  {
   "cell_type": "markdown",
   "metadata": {
    "id": "GoEU0UOYFB2j"
   },
   "source": [
    "Make a IntegratedGradients method prediction"
   ]
  },
  {
   "cell_type": "code",
   "execution_count": 7,
   "metadata": {},
   "outputs": [],
   "source": [
    "classes = ['NORMAL','PNEUMONIA']\n",
    "dataiter = iter(test_loader)\n",
    "images, labels = next(dataiter)\n",
    "labels = labels.int()"
   ]
  },
  {
   "cell_type": "code",
   "execution_count": 8,
   "metadata": {},
   "outputs": [
    {
     "data": {
      "text/plain": [
       "torch.Size([4, 1, 224, 224])"
      ]
     },
     "execution_count": 8,
     "metadata": {},
     "output_type": "execute_result"
    }
   ],
   "source": [
    "images.shape"
   ]
  },
  {
   "cell_type": "code",
   "execution_count": 9,
   "metadata": {},
   "outputs": [
    {
     "data": {
      "image/png": "[encoded data removed]",
      "text/plain": [
       "<Figure size 640x480 with 1 Axes>"
      ]
     },
     "metadata": {},
     "output_type": "display_data"
    },
    {
     "name": "stdout",
     "output_type": "stream",
     "text": [
      "GroundTruth:  PNEUMONIA NORMAL NORMAL PNEUMONIA\n",
      "Predicted:    PNEUMONIA NORMAL NORMAL PNEUMONIA\n"
     ]
    }
   ],
   "source": [
    "def imshow(img, transpose = True):\n",
    "    npimg = img.numpy()\n",
    "    plt.imshow(np.transpose(npimg, (1, 2, 0)))\n",
    "    plt.show()\n",
    "\n",
    "# print images\n",
    "imshow(torchvision.utils.make_grid(images))\n",
    "print('GroundTruth: ', ' '.join('%5s' % classes[labels[j]] for j in range(4)))\n",
    "\n",
    "\n",
    "output = torch.sigmoid(model(images))\n",
    "predicted = torch.round(output).int()\n",
    "\n",
    "\n",
    "print('Predicted:   ', ' '.join('%5s' % classes[predicted[j]]\n",
    "                              for j in range(4)))"
   ]
  },
  {
   "cell_type": "code",
   "execution_count": 10,
   "metadata": {},
   "outputs": [],
   "source": [
    "ind = 1\n",
    "\n",
    "input = images[ind].unsqueeze(0)\n",
    "input.requires_grad = True"
   ]
  },
  {
   "cell_type": "code",
   "execution_count": 11,
   "metadata": {},
   "outputs": [],
   "source": [
    "def attribute_image_features(algorithm, input, **kwargs):\n",
    "    model.zero_grad()\n",
    "    tensor_attributions = algorithm.attribute(input,\n",
    "                                              target=labels[ind],\n",
    "                                              **kwargs\n",
    "                                             )\n",
    "    \n",
    "    return tensor_attributions"
   ]
  },
  {
   "cell_type": "code",
   "execution_count": null,
   "metadata": {},
   "outputs": [],
   "source": [
    "ig = IntegratedGradients(model)\n",
    "attr_ig, delta = attribute_image_features(ig, input, baselines=input * 0, return_convergence_delta=True)\n",
    "attr_ig = np.transpose(attr_ig.squeeze(0).cpu().detach().numpy(), (1, 2, 0))\n",
    "print('Approximation delta: ', abs(delta))"
   ]
  },
  {
   "cell_type": "code",
   "execution_count": null,
   "metadata": {
    "id": "4sbLYDz4rl3e"
   },
   "outputs": [],
   "source": [
    "print('Original Image')\n",
    "print('Predicted:    ', classes[predicted[ind]], \n",
    "      '\\nProbability:', output[ind].item())\n",
    "\n",
    "original_image = np.transpose(images[ind].cpu().detach().numpy(), (1, 2, 0))\n",
    "\n",
    "_ = viz.visualize_image_attr(None, original_image, \n",
    "                      method=\"original_image\", title=\"Original Image\")\n",
    "\n",
    "_ = viz.visualize_image_attr(attr_ig, original_image, method=\"blended_heat_map\",sign=\"all\",\n",
    "                          show_colorbar=True, title=\"Overlayed Integrated Gradients\")"
   ]
  },
  {
   "cell_type": "code",
   "execution_count": null,
   "metadata": {},
   "outputs": [],
   "source": []
  },
  {
   "cell_type": "code",
   "execution_count": null,
   "metadata": {},
   "outputs": [],
   "source": []
  }
 ],
 "metadata": {
  "accelerator": "GPU",
  "colab": {
   "provenance": []
  },
  "gpuClass": "standard",
  "kernelspec": {
   "display_name": "Python 3 (ipykernel)",
   "language": "python",
   "name": "python3"
  },
  "language_info": {
   "codemirror_mode": {
    "name": "ipython",
    "version": 3
   },
   "file_extension": ".py",
   "mimetype": "text/x-python",
   "name": "python",
   "nbconvert_exporter": "python",
   "pygments_lexer": "ipython3",
   "version": "3.9.11"
  }
 },
 "nbformat": 4,
 "nbformat_minor": 1
}
