{
 "cells": [
  {
   "cell_type": "code",
   "execution_count": 19,
   "id": "a6fbadff",
   "metadata": {},
   "outputs": [],
   "source": [
    "# Import \n",
    "import os\n",
    "\n",
    "# Math and Stats\n",
    "import pandas as pd\n",
    "import numpy as np\n",
    "from sklearn.metrics import f1_score, balanced_accuracy_score, confusion_matrix, classification_report\n",
    "from tqdm import tqdm\n",
    "\n",
    "# Visu\n",
    "from PIL import Image\n",
    "import seaborn as sns\n",
    "import matplotlib.pyplot as plt\n",
    "\n",
    "# NN\n",
    "import torch\n",
    "import torch.nn as nn\n",
    "import torch.nn.functional as F\n",
    "import torchvision.transforms as T\n",
    "from torch.utils.data import DataLoader, Dataset\n",
    "\n",
    "# Explain\n",
    "from captum.attr import IntegratedGradients, LayerGradCam\n",
    "from captum.attr import visualization as viz"
   ]
  },
  {
   "cell_type": "markdown",
   "id": "79fe84a8",
   "metadata": {},
   "source": [
    "### Fixing random seeds"
   ]
  },
  {
   "cell_type": "code",
   "execution_count": 2,
   "id": "127c39d9",
   "metadata": {},
   "outputs": [],
   "source": [
    "torch.manual_seed(42)\n",
    "np.random.seed(42)"
   ]
  },
  {
   "cell_type": "markdown",
   "id": "3479ad4b",
   "metadata": {},
   "source": [
    "### Cuda"
   ]
  },
  {
   "cell_type": "code",
   "execution_count": 3,
   "id": "d6bafa57",
   "metadata": {},
   "outputs": [
    {
     "data": {
      "text/plain": [
       "device(type='cpu')"
      ]
     },
     "execution_count": 3,
     "metadata": {},
     "output_type": "execute_result"
    }
   ],
   "source": [
    "use_cuda = torch.cuda.is_available()\n",
    "device = torch.device(\"cuda:0\" if use_cuda else \"cpu\")\n",
    "torch.backends.cudnn.benchmark = True\n",
    "device"
   ]
  },
  {
   "cell_type": "markdown",
   "id": "6474ffca",
   "metadata": {},
   "source": [
    "### Label distribution of the dataset"
   ]
  },
  {
   "cell_type": "code",
   "execution_count": 4,
   "id": "fb87d8d6",
   "metadata": {},
   "outputs": [
    {
     "data": {
      "text/html": [
       "<div>\n",
       "<style scoped>\n",
       "    .dataframe tbody tr th:only-of-type {\n",
       "        vertical-align: middle;\n",
       "    }\n",
       "\n",
       "    .dataframe tbody tr th {\n",
       "        vertical-align: top;\n",
       "    }\n",
       "\n",
       "    .dataframe thead th {\n",
       "        text-align: right;\n",
       "    }\n",
       "</style>\n",
       "<table border=\"1\" class=\"dataframe\">\n",
       "  <thead>\n",
       "    <tr style=\"text-align: right;\">\n",
       "      <th></th>\n",
       "      <th>folder</th>\n",
       "      <th>NORMAL</th>\n",
       "      <th>PNEUMONIA</th>\n",
       "    </tr>\n",
       "  </thead>\n",
       "  <tbody>\n",
       "    <tr>\n",
       "      <th>0</th>\n",
       "      <td>train</td>\n",
       "      <td>1341</td>\n",
       "      <td>3875</td>\n",
       "    </tr>\n",
       "    <tr>\n",
       "      <th>1</th>\n",
       "      <td>test</td>\n",
       "      <td>234</td>\n",
       "      <td>390</td>\n",
       "    </tr>\n",
       "    <tr>\n",
       "      <th>2</th>\n",
       "      <td>val</td>\n",
       "      <td>8</td>\n",
       "      <td>8</td>\n",
       "    </tr>\n",
       "  </tbody>\n",
       "</table>\n",
       "</div>"
      ],
      "text/plain": [
       "  folder  NORMAL  PNEUMONIA\n",
       "0  train    1341       3875\n",
       "1   test     234        390\n",
       "2    val       8          8"
      ]
     },
     "execution_count": 4,
     "metadata": {},
     "output_type": "execute_result"
    }
   ],
   "source": [
    "def get_names():\n",
    "    li = []\n",
    "    picture = 'chest_xray/'\n",
    "    for folder in ['train/','test/','val/']:\n",
    "        normal = 0\n",
    "        pneu = 0\n",
    "        for kind in ['NORMAL/','PNEUMONIA/']:\n",
    "            directory = picture+folder+kind\n",
    "            for filename in os.listdir(directory):\n",
    "                f = os.path.join(directory, filename)\n",
    "                if os.path.isfile(f):\n",
    "                    if kind == 'NORMAL/':\n",
    "                        normal += 1\n",
    "                    else:\n",
    "                        pneu += 1    \n",
    "                \n",
    "        li.append((folder[:-1],normal,pneu))           \n",
    "\n",
    "    df = pd.DataFrame(li, columns=['folder','NORMAL','PNEUMONIA'])\n",
    "    return df\n",
    "\n",
    "data = get_names()\n",
    "data"
   ]
  },
  {
   "cell_type": "code",
   "execution_count": 5,
   "id": "ede7638d",
   "metadata": {},
   "outputs": [
    {
     "data": {
      "text/plain": [
       "<Axes: title={'center': 'Distribution of Labels'}, xlabel='Folder'>"
      ]
     },
     "execution_count": 5,
     "metadata": {},
     "output_type": "execute_result"
    },
    {
     "data": {
      "image/png": "[encoded data removed]",
      "text/plain": [
       "<Figure size 1000x400 with 1 Axes>"
      ]
     },
     "metadata": {},
     "output_type": "display_data"
    }
   ],
   "source": [
    "data.plot.bar(x='folder',rot=0,figsize=(10,4),title='Distribution of Labels',xlabel='Folder',fontsize='large')"
   ]
  },
  {
   "cell_type": "code",
   "execution_count": 6,
   "id": "34c5dc64",
   "metadata": {},
   "outputs": [
    {
     "name": "stdout",
     "output_type": "stream",
     "text": [
      "Healthy patients: 1583 (in total)\n",
      "Sick patients: 4273 (in total)\n"
     ]
    }
   ],
   "source": [
    "norm = sum(data[\"NORMAL\"])\n",
    "sick = sum(data[\"PNEUMONIA\"])\n",
    "\n",
    "print(f'Healthy patients: {norm} (in total)')\n",
    "print(f'Sick patients: {sick} (in total)')"
   ]
  },
  {
   "cell_type": "markdown",
   "id": "d7a90fd7",
   "metadata": {},
   "source": [
    "### Reorganize train-val-test split"
   ]
  },
  {
   "cell_type": "markdown",
   "id": "561fb8de",
   "metadata": {},
   "source": [
    "Redistribute the dataset into train (70%), val (15%) and test (15%) split. The new splits can be found in the \"train/test/val.csv\" files in the zip."
   ]
  },
  {
   "cell_type": "code",
   "execution_count": 7,
   "id": "58481685",
   "metadata": {},
   "outputs": [
    {
     "data": {
      "text/html": [
       "<div>\n",
       "<style scoped>\n",
       "    .dataframe tbody tr th:only-of-type {\n",
       "        vertical-align: middle;\n",
       "    }\n",
       "\n",
       "    .dataframe tbody tr th {\n",
       "        vertical-align: top;\n",
       "    }\n",
       "\n",
       "    .dataframe thead th {\n",
       "        text-align: right;\n",
       "    }\n",
       "</style>\n",
       "<table border=\"1\" class=\"dataframe\">\n",
       "  <thead>\n",
       "    <tr style=\"text-align: right;\">\n",
       "      <th></th>\n",
       "      <th>folder</th>\n",
       "      <th>NORMAL</th>\n",
       "      <th>PNEUMONIA</th>\n",
       "    </tr>\n",
       "  </thead>\n",
       "  <tbody>\n",
       "    <tr>\n",
       "      <th>0</th>\n",
       "      <td>train</td>\n",
       "      <td>1109</td>\n",
       "      <td>2991</td>\n",
       "    </tr>\n",
       "    <tr>\n",
       "      <th>1</th>\n",
       "      <td>test</td>\n",
       "      <td>237</td>\n",
       "      <td>641</td>\n",
       "    </tr>\n",
       "    <tr>\n",
       "      <th>2</th>\n",
       "      <td>val</td>\n",
       "      <td>237</td>\n",
       "      <td>641</td>\n",
       "    </tr>\n",
       "  </tbody>\n",
       "</table>\n",
       "</div>"
      ],
      "text/plain": [
       "  folder  NORMAL  PNEUMONIA\n",
       "0  train    1109       2991\n",
       "1   test     237        641\n",
       "2    val     237        641"
      ]
     },
     "execution_count": 7,
     "metadata": {},
     "output_type": "execute_result"
    }
   ],
   "source": [
    "def get_reshuffle():\n",
    "    li = []\n",
    "    picture = 'chest_xray_re/'\n",
    "    for kind in ['train','test','val']:\n",
    "        data = pd.read_csv(picture+kind+'.csv')\n",
    "        norm = data['label']==0\n",
    "        sick = data['label']==1\n",
    "        \n",
    "        norm_num = data[norm].shape[0]\n",
    "        sick_num = data[sick].shape[0]\n",
    "        li.append((kind,norm_num,sick_num))\n",
    "    \n",
    "    df = pd.DataFrame(li, columns=['folder','NORMAL','PNEUMONIA'])\n",
    "    return df\n",
    "\n",
    "data = get_reshuffle()\n",
    "data"
   ]
  },
  {
   "cell_type": "code",
   "execution_count": 8,
   "id": "f9404f96",
   "metadata": {},
   "outputs": [
    {
     "data": {
      "text/plain": [
       "<Axes: title={'center': 'Distribution of Labels'}, xlabel='Folder'>"
      ]
     },
     "execution_count": 8,
     "metadata": {},
     "output_type": "execute_result"
    },
    {
     "data": {
      "image/png": "[encoded data removed]",
      "text/plain": [
       "<Figure size 1000x400 with 1 Axes>"
      ]
     },
     "metadata": {},
     "output_type": "display_data"
    }
   ],
   "source": [
    "data.plot.bar(x='folder',rot=0,figsize=(10,4),title='Distribution of Labels',xlabel='Folder',fontsize='large')"
   ]
  },
  {
   "cell_type": "markdown",
   "id": "7a993a21",
   "metadata": {},
   "source": [
    "### Create Data and Loaders"
   ]
  },
  {
   "cell_type": "markdown",
   "id": "569316b9",
   "metadata": {},
   "source": [
    "The images are resized to 224x224."
   ]
  },
  {
   "cell_type": "code",
   "execution_count": 9,
   "id": "06303d9c",
   "metadata": {},
   "outputs": [],
   "source": [
    "class XRayDataset(Dataset):\n",
    "\n",
    "    def __init__(self, dataset, data, size = 224):\n",
    "        \n",
    "        self.path = f'chest_xray_re/{dataset}/'\n",
    "        self.file = data['path']\n",
    "        self.label = data['label']\n",
    "        self.len = data.shape[0]\n",
    "        self.size = size\n",
    "        self.transform = T.Compose([T.ToTensor(),T.Resize((self.size, self.size))])\n",
    "\n",
    "    def __len__(self):\n",
    "        return self.len\n",
    "\n",
    "    def __getitem__(self, idx):\n",
    "        label = torch.tensor(self.label.iloc[idx]).reshape(-1).to(torch.float32)\n",
    "        f = self.path + self.file.iloc[idx]\n",
    "        image = Image.open(f)\n",
    "        image_tensor = self.transform(image)\n",
    "        \n",
    "        if image_tensor.shape == (3,self.size,self.size):\n",
    "            data_tensor = 0.299*image_tensor[0,:,:]+0.587*image_tensor[1,:,:]+0.114*image_tensor[2,:,:]\n",
    "            data_tensor = torch.unsqueeze(data_tensor,dim=0)\n",
    "        else:\n",
    "            data_tensor = image_tensor\n",
    "        \n",
    "        return data_tensor, label"
   ]
  },
  {
   "cell_type": "code",
   "execution_count": 10,
   "id": "eb170c3e",
   "metadata": {},
   "outputs": [],
   "source": [
    "def get_loaders(dataset, batch_size=42, shuffle=True):\n",
    "    \n",
    "    path = f'chest_xray_re/{dataset}.csv'\n",
    "    data = pd.read_csv(path)\n",
    "    \n",
    "    train_dataset = XRayDataset(dataset, data)\n",
    "    loader = DataLoader(train_dataset, batch_size=batch_size, shuffle=shuffle, num_workers=0)\n",
    "    \n",
    "    return loader\n",
    "\n",
    "train_loader = get_loaders(dataset=\"train\")\n",
    "val_loader   = get_loaders(dataset=\"val\", shuffle=False)\n",
    "test_loader  = get_loaders(dataset=\"test\", batch_size=4, shuffle=False)"
   ]
  },
  {
   "cell_type": "markdown",
   "id": "99ee673a",
   "metadata": {},
   "source": [
    "### Evaluation and Training Loops"
   ]
  },
  {
   "cell_type": "code",
   "execution_count": 11,
   "id": "a3ce6733",
   "metadata": {},
   "outputs": [],
   "source": [
    "def evaluate(model, loss_fn, val_loader, device):\n",
    "    # goes through the validation dataset\n",
    "    # computes the Accuracy and F1-score\n",
    "    \n",
    "    model.eval()\n",
    "\n",
    "    with torch.no_grad():\n",
    "        avg_val_loss, val_loss = 0, 0\n",
    "        num_eval_samples, correct = 0, 0\n",
    "        y_pred, y_true = [],[]\n",
    "        \n",
    "        for x_batch, y_batch in tqdm(val_loader, desc=f'Evaluation', ncols = 100, leave=True):    \n",
    "            \n",
    "            # push to cuda\n",
    "            y_batch = y_batch.to(device)\n",
    "            x_batch = x_batch.to(device)\n",
    "\n",
    "            # make a predition\n",
    "            y_hat = model.forward(x_batch)\n",
    "            \n",
    "            # loss\n",
    "            loss = loss_fn(y_hat, y_batch)\n",
    "\n",
    "            # keep track of validation stats\n",
    "            num_samples_batch = x_batch.shape[0]\n",
    "            num_eval_samples += num_samples_batch\n",
    "            val_loss += loss.item() * num_samples_batch\n",
    "            y_true.append(y_batch.cpu().numpy().reshape(num_samples_batch))\n",
    "            y_pred.append(torch.round(F.sigmoid(y_hat)).cpu().numpy().reshape(num_samples_batch))\n",
    "        \n",
    "        y_true = np.hstack(y_true).reshape(num_eval_samples)\n",
    "        y_pred = np.hstack(y_pred).reshape(num_eval_samples)\n",
    "        avg_val_loss = val_loss / num_eval_samples\n",
    "        acc = accuracy_score(y_true,y_pred)\n",
    "        f1 = f1_score(y_true, y_pred)\n",
    "        return avg_val_loss, acc, f1"
   ]
  },
  {
   "cell_type": "code",
   "execution_count": 12,
   "id": "0eb0a0fa",
   "metadata": {},
   "outputs": [],
   "source": [
    "def train_loop(model, train_loader, val_loader, loss_fn, optim, device, show=2, save=5, epochs=20):\n",
    "    # Some settings\n",
    "    best_epoch = 0\n",
    "    best_acc = 0\n",
    "    print(f'Start training model')\n",
    "    \n",
    "    for epoch in range(1,epochs+1):\n",
    "        # reset statistics trackers\n",
    "        train = 0.0\n",
    "        num_samples_epoch = 0\n",
    "        train_loss_cum = torch.tensor([0.])\n",
    "        \n",
    "        # put model intro train mode\n",
    "        model.train()\n",
    "        \n",
    "        pbar = tqdm(train_loader, desc=f'Training [{epoch}/{epochs}]', ncols = 100, leave=True)\n",
    "\n",
    "        # Go once through the training dataset (-> epoch)\n",
    "        for x_batch, y_batch in pbar:\n",
    "\n",
    "            # push to cuda\n",
    "            y_batch = y_batch.to(device)\n",
    "            x_batch = x_batch.to(device)\n",
    "\n",
    "            # zero grads\n",
    "            optim.zero_grad()\n",
    "            \n",
    "            # forward pass though the model\n",
    "            y_hat = model.forward(x_batch)\n",
    "            \n",
    "            # loss\n",
    "            loss = loss_fn(y_hat, y_batch)\n",
    "            \n",
    "            # backward pass and gradient step\n",
    "            loss.backward()\n",
    "            optim.step()\n",
    "            \n",
    "            # keep track of train stats\n",
    "            num_samples_batch = x_batch.shape[0]\n",
    "            num_samples_epoch += num_samples_batch\n",
    "            train_loss_cum += loss.item() * num_samples_batch\n",
    "\n",
    "\n",
    "        # average the accumulated train statistics\n",
    "        avg_train_loss = train_loss_cum / num_samples_epoch\n",
    "\n",
    "        # get a validation\n",
    "        val_loss, val_acc, val_f1 = evaluate(model, loss_fn, val_loader, device)\n",
    "\n",
    "        # print some trainings infos\n",
    "        print(f'\\n'\n",
    "              f'Epoch {epoch}\\n'\n",
    "              f'Train-loss: {avg_train_loss.item():.5f} | Val-loss: {val_loss:.5f}\\n'\n",
    "              f'Accuracy:   {val_acc*100:.3f}% | F1-Score: {val_f1:.5f}', flush=True)\n",
    "\n",
    "        # save checkpoint of model\n",
    "        if epoch % save == 0 and epoch > 2:\n",
    "            save_path = f'/content/drive/MyDrive/MLHC_P1/chest_xray_re/model_epoch_{epoch}_vgg_small.pt'\n",
    "            torch.save(model.state_dict(), save_path)\n",
    "            print(f'Saved model checkpoint to {save_path}\\n', flush=True)\n",
    "\n",
    "        if best_acc < val_acc and epoch > 2:\n",
    "            best_acc = val_acc\n",
    "            best_epoch = epoch\n",
    "            save_path = f'/content/drive/MyDrive/MLHC_P1/chest_xray_re/model_best_vgg_small.pt'\n",
    "            torch.save(model.state_dict(), save_path)\n",
    "            print(f'Saved model best in epoch {epoch} to checkpoint {save_path}\\n', flush=True)\n",
    "\n",
    "\n",
    "    print(f'Best Accuracy: {best_acc:.5f} in Epoch {best_epoch}')"
   ]
  },
  {
   "cell_type": "markdown",
   "id": "75d3623b",
   "metadata": {},
   "source": [
    "We use Accuracy and F1-Score as training and testing metrics. F1 because we want to account for the model imbalance between healthy and sick patients."
   ]
  },
  {
   "cell_type": "markdown",
   "id": "558328da",
   "metadata": {},
   "source": [
    "### Model architecture"
   ]
  },
  {
   "cell_type": "markdown",
   "id": "e50df116",
   "metadata": {},
   "source": [
    "We use a small size VGG model:"
   ]
  },
  {
   "cell_type": "code",
   "execution_count": 13,
   "id": "787c16d7",
   "metadata": {},
   "outputs": [],
   "source": [
    "class VGG_small(nn.Module):\n",
    "    def __init__(self):\n",
    "        super(VGG_small, self).__init__()\n",
    "        self.layer1 = nn.Sequential(\n",
    "            nn.Conv2d(1, 64, kernel_size=3, stride=1, padding=1),\n",
    "            nn.BatchNorm2d(64),\n",
    "            nn.ReLU())\n",
    "        self.layer2 = nn.Sequential(\n",
    "            nn.Conv2d(64, 64, kernel_size=3, stride=1, padding=1),\n",
    "            nn.BatchNorm2d(64),\n",
    "            nn.ReLU(), \n",
    "            nn.MaxPool2d(kernel_size = 2, stride = 2))\n",
    "        self.layer3 = nn.Sequential(\n",
    "            nn.Conv2d(64, 128, kernel_size=3, stride=1, padding=1),\n",
    "            nn.BatchNorm2d(128),\n",
    "            nn.ReLU())\n",
    "        self.layer4 = nn.Sequential(\n",
    "            nn.Conv2d(128, 128, kernel_size=3, stride=1, padding=1),\n",
    "            nn.BatchNorm2d(128),\n",
    "            nn.ReLU(),\n",
    "            nn.MaxPool2d(kernel_size = 2, stride = 2))\n",
    "        self.layer5 = nn.Sequential(\n",
    "            nn.Conv2d(128, 256, kernel_size=3, stride=1, padding=1),\n",
    "            nn.BatchNorm2d(256),\n",
    "            nn.ReLU())\n",
    "        self.layer7 = nn.Sequential(\n",
    "            nn.Conv2d(256, 256, kernel_size=3, stride=1, padding=1),\n",
    "            nn.BatchNorm2d(256),\n",
    "            nn.ReLU(),\n",
    "            nn.MaxPool2d(kernel_size = 2, stride = 2))\n",
    "        self.layer8 = nn.Sequential(\n",
    "            nn.Conv2d(256, 512, kernel_size=3, stride=1, padding=1),\n",
    "            nn.BatchNorm2d(512),\n",
    "            nn.ReLU())\n",
    "        self.layer10 = nn.Sequential(\n",
    "            nn.Conv2d(512, 512, kernel_size=3, stride=1, padding=1),\n",
    "            nn.BatchNorm2d(512),\n",
    "            nn.ReLU(),\n",
    "            nn.MaxPool2d(kernel_size = 2, stride = 2))\n",
    "        self.layer11 = nn.Sequential(\n",
    "            nn.Conv2d(512, 512, kernel_size=3, stride=1, padding=1),\n",
    "            nn.BatchNorm2d(512),\n",
    "            nn.ReLU())\n",
    "        self.layer13 = nn.Sequential(\n",
    "            nn.Conv2d(512, 512, kernel_size=3, stride=1, padding=1),\n",
    "            nn.BatchNorm2d(512),\n",
    "            nn.ReLU(),\n",
    "            nn.MaxPool2d(kernel_size = 2, stride = 2))\n",
    "        self.fc = nn.Sequential(\n",
    "            nn.Dropout(0.5),\n",
    "            nn.Linear(7*7*512, 3072),\n",
    "            nn.ReLU())\n",
    "        self.fc1 = nn.Sequential(\n",
    "            nn.Dropout(0.5),\n",
    "            nn.Linear(3072, 3072),\n",
    "            nn.ReLU())\n",
    "        self.fc2 = nn.Sequential(\n",
    "            nn.Linear(3072, 1))\n",
    "        \n",
    "    def forward(self, x):\n",
    "        out = self.layer1(x)\n",
    "        out = self.layer2(out)\n",
    "        out = self.layer3(out)\n",
    "        out = self.layer4(out)\n",
    "        out = self.layer5(out)\n",
    "        out = self.layer7(out)\n",
    "        out = self.layer8(out)\n",
    "        out = self.layer10(out)\n",
    "        out = self.layer11(out)\n",
    "        out = self.layer13(out)\n",
    "        out = out.reshape(out.size(0), -1)\n",
    "        out = self.fc(out)\n",
    "        out = self.fc1(out)\n",
    "        out = self.fc2(out)\n",
    "        return out\n",
    "    \n",
    "model = VGG_small().to(device)"
   ]
  },
  {
   "cell_type": "markdown",
   "id": "5dce2036",
   "metadata": {},
   "source": [
    "### Loss and Optimizer Function"
   ]
  },
  {
   "cell_type": "code",
   "execution_count": 14,
   "id": "929b6eff",
   "metadata": {},
   "outputs": [],
   "source": [
    "loss_fn = nn.BCEWithLogitsLoss()\n",
    "optim = torch.optim.Adam(model.parameters(), lr=5e-4)"
   ]
  },
  {
   "cell_type": "markdown",
   "id": "e9953b11",
   "metadata": {},
   "source": [
    "### Training or loading a model"
   ]
  },
  {
   "cell_type": "code",
   "execution_count": 15,
   "id": "6883e619",
   "metadata": {},
   "outputs": [
    {
     "name": "stdout",
     "output_type": "stream",
     "text": [
      "Using existing trained model\n"
     ]
    }
   ],
   "source": [
    "USE_PRETRAINED_MODEL = True\n",
    "\n",
    "if USE_PRETRAINED_MODEL:\n",
    "    model.load_state_dict(torch.load('chest_xray_re/model_best_vgg_small_dict.pt',map_location=device))\n",
    "    print(\"Using existing trained model\")\n",
    "    model.eval()\n",
    "else:\n",
    "    train_loop(model, train_loader, val_loader, loss_fn, optim, device)\n",
    "            # Epoch 20\n",
    "            # Train-loss: 0.06441 | Val-loss: 0.4043\n",
    "            # Accuracy:   88.952% | F1-Score: 0.91964\n",
    "\n",
    "            # Best Accuracy: 0.96014 in Epoch 19\n",
    "\n",
    "    print('Finished Training')"
   ]
  },
  {
   "cell_type": "code",
   "execution_count": 17,
   "id": "5db101f3",
   "metadata": {},
   "outputs": [
    {
     "name": "stderr",
     "output_type": "stream",
     "text": [
      "Test: 100%|███████████████████████████████████████████████████████| 220/220 [14:57<00:00,  4.08s/it]\n"
     ]
    }
   ],
   "source": [
    "def test(model, loader, device):\n",
    "    # goes through the validation dataset\n",
    "    # computes the Accuracy and F1-score\n",
    "    \n",
    "    model.eval()\n",
    "\n",
    "    with torch.no_grad():\n",
    "        num_eval_samples, correct = 0, 0\n",
    "        y_pred, y_true = [],[]\n",
    "        \n",
    "        for x_batch, y_batch in tqdm(loader, desc=f'Test', ncols = 100, leave=True):    \n",
    "            \n",
    "            # push to cuda\n",
    "            y_batch = y_batch.to(device)\n",
    "            x_batch = x_batch.to(device)\n",
    "\n",
    "            # make a predition\n",
    "            y_hat = model.forward(x_batch)\n",
    "\n",
    "            # keep track of validation stats\n",
    "            num_samples_batch = x_batch.shape[0]\n",
    "            num_eval_samples += num_samples_batch\n",
    "            y_true.append(y_batch.cpu().numpy().reshape(num_samples_batch))\n",
    "            y_pred.append(torch.round(torch.sigmoid(y_hat)).cpu().numpy().reshape(num_samples_batch))\n",
    "        \n",
    "        y_true = np.hstack(y_true).reshape(num_eval_samples)\n",
    "        y_pred = np.hstack(y_pred).reshape(num_eval_samples)\n",
    "        return y_true, y_pred\n",
    "    \n",
    "y_true, y_pred = test(model, test_loader, device)"
   ]
  },
  {
   "cell_type": "markdown",
   "id": "0292e313",
   "metadata": {},
   "source": [
    "### Evaluation"
   ]
  },
  {
   "cell_type": "code",
   "execution_count": 20,
   "id": "cf579b34",
   "metadata": {},
   "outputs": [
    {
     "name": "stdout",
     "output_type": "stream",
     "text": [
      "Balanced Accuracy: 0.952%\n",
      "F1-Score: 0.972%\n"
     ]
    }
   ],
   "source": [
    "cm = confusion_matrix(y_true, y_pred)\n",
    "# TP, FP, FN, TN = cm[0][0], cm[0][1], cm[1][0], cm[1][1]\n",
    "acc = balanced_accuracy_score(y_true,y_pred)\n",
    "f1 = f1_score(y_true, y_pred)\n",
    "print(f'Balanced Accuracy: {acc:.3f}%')\n",
    "print(f'F1-Score: {f1:.3f}%')"
   ]
  },
  {
   "cell_type": "code",
   "execution_count": 21,
   "id": "276031a7",
   "metadata": {},
   "outputs": [
    {
     "name": "stdout",
     "output_type": "stream",
     "text": [
      "              precision    recall  f1-score   support\n",
      "\n",
      "         0.0       0.91      0.94      0.92       237\n",
      "         1.0       0.98      0.97      0.97       641\n",
      "\n",
      "    accuracy                           0.96       878\n",
      "   macro avg       0.94      0.95      0.95       878\n",
      "weighted avg       0.96      0.96      0.96       878\n",
      "\n"
     ]
    }
   ],
   "source": [
    "print(classification_report(y_true, y_pred))"
   ]
  },
  {
   "cell_type": "code",
   "execution_count": 22,
   "id": "4dfddc05",
   "metadata": {},
   "outputs": [
    {
     "data": {
      "image/png": "[encoded data removed]",
      "text/plain": [
       "<Figure size 640x480 with 2 Axes>"
      ]
     },
     "metadata": {},
     "output_type": "display_data"
    }
   ],
   "source": [
    "ax = plt.subplot()\n",
    "sns.heatmap(cm, annot=True, fmt='g', ax=ax) \n",
    "# labels, title and ticks\n",
    "ax.set_xlabel('Predicted labels')\n",
    "ax.set_ylabel('True labels')\n",
    "ax.xaxis.set_ticklabels(['NORMAL', 'PNEUMONIA'])\n",
    "ax.yaxis.set_ticklabels(['NORMAL', 'PNEUMONIA'])\n",
    "plt.show()"
   ]
  },
  {
   "cell_type": "code",
   "execution_count": null,
   "id": "cca03bd7",
   "metadata": {},
   "outputs": [],
   "source": []
  }
 ],
 "metadata": {
  "kernelspec": {
   "display_name": "Python 3 (ipykernel)",
   "language": "python",
   "name": "python3"
  },
  "language_info": {
   "codemirror_mode": {
    "name": "ipython",
    "version": 3
   },
   "file_extension": ".py",
   "mimetype": "text/x-python",
   "name": "python",
   "nbconvert_exporter": "python",
   "pygments_lexer": "ipython3",
   "version": "3.9.11"
  }
 },
 "nbformat": 4,
 "nbformat_minor": 5
}
